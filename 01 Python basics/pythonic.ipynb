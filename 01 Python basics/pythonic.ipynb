{
 "cells": [
  {
   "attachments": {},
   "cell_type": "markdown",
   "metadata": {},
   "source": [
    "# Pythonic code\n",
    "\n",
    "Pythonic\" code refers to code that adheres to the conventions and idioms of the Python programming language, and uses its features effectively. This code is often seen as more readable, maintainable, and expressive compared to code written in a different style or using a different programming language. The idea behind \"Pythonic\" code is to write code that is both efficient and elegant, by taking advantage of the language's strengths and features (source: ChatGPT ;))\n",
    "## Zen of Python\n",
    "The \"Zen of Python\" is a collection of 19 aphorisms that provide guidance on writing computer programs in the Python programming language. It was written by Tim Peters, one of the earliest contributors to the Python language. The \"Zen of Python\" is not a formal specification or standard, but rather a set of guidelines and suggestions for writing \"Pythonic\" code. Some of the most famous aphorisms from the \"Zen of Python\" include:\n",
    "\n",
    "\"Beautiful is better than ugly.\"\n",
    "\"Explicit is better than implicit.\"\n",
    "\"Simple is better than complex.\"\n",
    "\"Complex is better than complicated.\"\n",
    "\"Readability counts.\"\n",
    "The \"Zen of Python\" can be accessed within a Python interpreter by running the command \"import this\"."
   ]
  },
  {
   "cell_type": "code",
   "execution_count": 15,
   "metadata": {},
   "outputs": [
    {
     "name": "stdout",
     "output_type": "stream",
     "text": [
      "The Zen of Python, by Tim Peters\n",
      "\n",
      "Beautiful is better than ugly.\n",
      "Explicit is better than implicit.\n",
      "Simple is better than complex.\n",
      "Complex is better than complicated.\n",
      "Flat is better than nested.\n",
      "Sparse is better than dense.\n",
      "Readability counts.\n",
      "Special cases aren't special enough to break the rules.\n",
      "Although practicality beats purity.\n",
      "Errors should never pass silently.\n",
      "Unless explicitly silenced.\n",
      "In the face of ambiguity, refuse the temptation to guess.\n",
      "There should be one-- and preferably only one --obvious way to do it.\n",
      "Although that way may not be obvious at first unless you're Dutch.\n",
      "Now is better than never.\n",
      "Although never is often better than *right* now.\n",
      "If the implementation is hard to explain, it's a bad idea.\n",
      "If the implementation is easy to explain, it may be a good idea.\n",
      "Namespaces are one honking great idea -- let's do more of those!\n"
     ]
    }
   ],
   "source": [
    "import this"
   ]
  },
  {
   "attachments": {},
   "cell_type": "markdown",
   "metadata": {},
   "source": [
    "## Examples of Pythonic code\n",
    "\n",
    "source: https://nunenuh.medium.com/how-to-write-pythonic-code-e19b1562fd5\n",
    "\n",
    "### Working with a list"
   ]
  },
  {
   "cell_type": "code",
   "execution_count": 2,
   "metadata": {},
   "outputs": [
    {
     "name": "stdout",
     "output_type": "stream",
     "text": [
      "[0, 1, 2, 3, 4, 5, 6, 7, 8, 9]\n",
      "[0, 1, 2, 3, 4, 5, 6, 7, 8, 9]\n",
      "apple\n",
      "banana\n",
      "mango\n",
      "kiwi\n",
      "apple\n",
      "banana\n",
      "mango\n",
      "kiwi\n",
      "0 apple\n",
      "1 banana\n",
      "2 mango\n",
      "3 kiwi\n",
      "0 apple\n",
      "1 banana\n",
      "2 mango\n",
      "3 kiwi\n",
      "kiwi\n",
      "mango\n",
      "banana\n",
      "apple\n",
      "kiwi\n",
      "mango\n",
      "banana\n",
      "apple\n"
     ]
    }
   ],
   "source": [
    "# create list of numbers\n",
    "# Not Soo Good (Not so Pythonic Code)\n",
    "data = []\n",
    "for i in range(10):\n",
    "    data.append(i)\n",
    "print(data)\n",
    "\n",
    "# Pythonic Code\n",
    "data = [i for i in range(10)]\n",
    "print(data)\n",
    "\n",
    "data = [\"apple\",\"banana\",\"mango\",\"kiwi\"]\n",
    "\n",
    "# Simple looping of list\n",
    "# Bad Code (Not Pythonic Code)\n",
    "for i in range(0, len(data)):\n",
    "    print(data[i])\n",
    "\n",
    "# Pythonic Code\n",
    "for val in data:\n",
    "    print(val)\n",
    "\n",
    "\n",
    "# Looping with index\n",
    "# Bad Code (Not Pythonic Code)\n",
    "for i in range(len(data)):\n",
    "    print(i,data[i])\n",
    "\n",
    "# Pythonic Code\n",
    "for i, val in enumerate(data):\n",
    "    print(i, val)\n",
    "\n",
    "\n",
    "# Looping reverse list\n",
    "# Bad Code (Not Pythonic Code)\n",
    "for i in range(len(data)-1, -1, -1):\n",
    "    print(data[i])\n",
    "\n",
    "# Pythonic Code\n",
    "for val in reversed(data):\n",
    "    print(val)"
   ]
  },
  {
   "attachments": {},
   "cell_type": "markdown",
   "metadata": {},
   "source": [
    "### Working with a dcionary"
   ]
  },
  {
   "cell_type": "code",
   "execution_count": 16,
   "metadata": {},
   "outputs": [
    {
     "name": "stdout",
     "output_type": "stream",
     "text": [
      "apple green\n",
      "banana yellow\n",
      "mango orange\n",
      "kiwi green\n",
      "apple green\n",
      "banana yellow\n",
      "mango orange\n",
      "kiwi green\n",
      "{'green': 2, 'yellow': 1, 'orange': 1}\n"
     ]
    }
   ],
   "source": [
    "# Create a dictionary of pairs\n",
    "\n",
    "data = [\"apple\",\"banana\",\"mango\",\"kiwi\"]\n",
    "colors = [\"green\", \"yellow\",\"orange\", \"green\"]\n",
    "\n",
    "# Not So Pythonic\n",
    "dc = {}\n",
    "for key, val in zip(data, colors):\n",
    "    dc[key] = val\n",
    "\n",
    "# More Pythonic Code\n",
    "dc = dict(zip(data, colors))\n",
    "\n",
    "\n",
    "# Loop dictionary\n",
    "# Good Pythonic\n",
    "for key in dc:\n",
    "    print(key, dc[key])\n",
    "\n",
    "# More Pythonic\n",
    "for key, val in dc.items():\n",
    "    print(key, val)\n",
    "\n",
    "\n",
    "# Count values in dictionary\n",
    "# Not Soo Pythonic Code\n",
    "d = {}\n",
    "for color in colors:\n",
    "    if color not in d:\n",
    "       d[color] = 0\n",
    "    d[color] += 1\n",
    "\n",
    "# Pythonic Code\n",
    "d = {}\n",
    "for color in colors:\n",
    "    d[color] = d.get(color, 0) + 1\n",
    "\n",
    "print(d)"
   ]
  },
  {
   "attachments": {},
   "cell_type": "markdown",
   "metadata": {},
   "source": [
    "### Finding longest palindrome in a list\n",
    "\n",
    "Source: https://bobbelderbos.com/2016/07/writing-pythonic-code-pays-off/"
   ]
  },
  {
   "cell_type": "code",
   "execution_count": 13,
   "metadata": {},
   "outputs": [
    {
     "name": "stdout",
     "output_type": "stream",
     "text": [
      "racecar\n",
      "racecar\n"
     ]
    },
    {
     "data": {
      "text/plain": [
       "'racecar'"
      ]
     },
     "execution_count": 13,
     "metadata": {},
     "output_type": "execute_result"
    }
   ],
   "source": [
    "wordlist = [\"kayak\", \"apple\", \"banana\", \"grapefruit\",\"racecar\",\"kiwi\", \"mango\",\"noon\"]\n",
    "\n",
    "# Not so Pythonic Code\n",
    "longest = \"\"\n",
    "for word in wordlist:\n",
    "    is_palindrome = True\n",
    "    for index in range(len(word)):\n",
    "        if word[index] != word[-(index + 1)]:\n",
    "            is_palindrome = False\n",
    "    if is_palindrome and len(word) > len(longest):\n",
    "        longest = word\n",
    "print(longest)\n",
    "\n",
    "# Pythonic Code\n",
    "longest = \"\"\n",
    "for word in wordlist:\n",
    "    if word == word[::-1] and len(word) > len(longest):\n",
    "        longest = word\n",
    "print(longest)\n",
    "\n",
    "# Very very Pythonic, but still readable?\n",
    "max([word for word in wordlist if word == word[::-1]], key=len)\n"
   ]
  },
  {
   "cell_type": "code",
   "execution_count": 14,
   "metadata": {},
   "outputs": [
    {
     "data": {
      "text/plain": [
       "'racecar'"
      ]
     },
     "execution_count": 14,
     "metadata": {},
     "output_type": "execute_result"
    }
   ],
   "source": [
    "# using methods to reuse code and to make it more readable\n",
    "def is_palindrome(word):\n",
    "    return word == word[::-1]\n",
    "\n",
    "def get_longest_palindrome(wordlist):\n",
    "    return max([word for word in wordlist if is_palindrome(word)], key=len)\n",
    "\n",
    "get_longest_palindrome(wordlist)"
   ]
  },
  {
   "attachments": {},
   "cell_type": "markdown",
   "metadata": {},
   "source": [
    "## More sources\n",
    "There are so many sources online for you to explore!\n",
    "\n",
    "- https://python.plainenglish.io/pythonic-code-examples-11770969092d\n",
    "- https://docs.python-guide.org/writing/style/\n",
    "- https://towardsdatascience.com/how-to-write-pythonic-code-208ec1513c49\n",
    "- https://www.codementor.io/blog/pythonic-code-6yxqdoktzt\n",
    "- https://builtin.com/data-science/pythonic-code\n",
    "- https://pythononeliners.com/\n",
    "\n"
   ]
  }
 ],
 "metadata": {
  "kernelspec": {
   "display_name": "Python 3",
   "language": "python",
   "name": "python3"
  },
  "language_info": {
   "codemirror_mode": {
    "name": "ipython",
    "version": 3
   },
   "file_extension": ".py",
   "mimetype": "text/x-python",
   "name": "python",
   "nbconvert_exporter": "python",
   "pygments_lexer": "ipython3",
   "version": "3.7.4"
  },
  "orig_nbformat": 4,
  "vscode": {
   "interpreter": {
    "hash": "7e45a591636b8059a3511f51eb84f0cf9a867c0e545a110f58ba3a9c1ada6645"
   }
  }
 },
 "nbformat": 4,
 "nbformat_minor": 2
}
