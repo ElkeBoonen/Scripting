{
 "metadata": {
  "language_info": {
   "codemirror_mode": {
    "name": "ipython",
    "version": 3
   },
   "file_extension": ".py",
   "mimetype": "text/x-python",
   "name": "python",
   "nbconvert_exporter": "python",
   "pygments_lexer": "ipython3",
   "version": "3.9.1-final"
  },
  "orig_nbformat": 2,
  "kernelspec": {
   "name": "python38232bite686985caf77426a88103896520609eb",
   "display_name": "Python 3.8.2 32-bit",
   "language": "python"
  }
 },
 "nbformat": 4,
 "nbformat_minor": 2,
 "cells": [
  {
   "source": [
    "# Python basics\n",
    "## Hello world!\n",
    "My first Jupyter notebook"
   ],
   "cell_type": "markdown",
   "metadata": {}
  },
  {
   "cell_type": "code",
   "execution_count": null,
   "metadata": {},
   "outputs": [],
   "source": [
    "print(\"hello world\")"
   ]
  },
  {
   "source": [
    "## Code blocks\n",
    "Use # for comments<br>\n",
    "Use : to start a block of code --> function definitions, control structures... <br>\n",
    "--> Instructions must be indented within a block of code"
   ],
   "cell_type": "markdown",
   "metadata": {}
  },
  {
   "cell_type": "code",
   "execution_count": null,
   "metadata": {},
   "outputs": [],
   "source": [
    "# find sign of x\n",
    "x = input(\"Enter x: \")\n",
    "print(\"value of x:\", x)\n",
    "print(type(x))\n",
    "\n",
    "# convert string x to int x\n",
    "x = int(x)\n",
    "\n",
    "# check sign\n",
    "if x > 0:\n",
    "    print(\"x is positive\")\n",
    "elif x < 0:\n",
    "    print(\"x is negative\")\n",
    "else:\n",
    "    print(\"x is zero\")"
   ]
  },
  {
   "source": [
    "## Expressions & operators\n",
    "A sequence of operands and operators, like a + b - 5 is called an expression"
   ],
   "cell_type": "markdown",
   "metadata": {}
  },
  {
   "cell_type": "code",
   "execution_count": 8,
   "metadata": {},
   "outputs": [
    {
     "output_type": "stream",
     "name": "stdout",
     "text": [
      "5\n13\n7\n30\n3.3333333333333335\n1\n1000\n3\n50\n0\nFalse\nTrue\nFalse\nTrue\nFalse\nTrue\n"
     ]
    }
   ],
   "source": [
    "# assignment\n",
    "x = 5\n",
    "print(x)\n",
    "\n",
    "# multiple assignments\n",
    "a, b, c = 1,\"ok\",3\n",
    "\n",
    "# arithmetic operators\n",
    "x = 10\n",
    "y = 3\n",
    "print(x+y)\n",
    "print(x-y)\n",
    "print(x*y)\n",
    "print(x/y)\n",
    "print(x%y)\n",
    "print(x**y)\n",
    "print(x//y)\n",
    "\n",
    "# other assignment operators\n",
    "x *= 5      # same as x = x * 5\n",
    "print(x)\n",
    "x -= 50     # same as x = x - 50\n",
    "print(x)\n",
    "\n",
    "# comparison operators\n",
    "print(x==y)\n",
    "print(x!=y)\n",
    "print(x>y)\n",
    "print(x<y)\n",
    "print(x>=y)\n",
    "print(x<=y)"
   ]
  },
  {
   "source": [
    "## Built-in functions\n",
    "https://www.w3schools.com/python/python_ref_functions.asp "
   ],
   "cell_type": "markdown",
   "metadata": {}
  },
  {
   "cell_type": "code",
   "execution_count": null,
   "metadata": {},
   "outputs": [],
   "source": [
    "s = \"hello\"\n",
    "print(s)\n",
    "print(s.capitalize())\n",
    "print(s.upper())\n",
    "print(s.rjust(7))\n",
    "print(s.center(7))\n",
    "print(s.replace('l','(ell)'))\n",
    "print('  world '.strip())"
   ]
  },
  {
   "source": [
    "## Flow control"
   ],
   "cell_type": "markdown",
   "metadata": {}
  },
  {
   "cell_type": "code",
   "execution_count": 20,
   "metadata": {},
   "outputs": [
    {
     "output_type": "stream",
     "name": "stdout",
     "text": [
      "5 * 0 = 0\n5 * 1 = 5\n5 * 2 = 10\n5 * 3 = 15\n5 * 4 = 20\n5 * 5 = 25\n5 * 6 = 30\n5 * 7 = 35\n5 * 8 = 40\n5 * 9 = 45\ns\no\nm\ne\nt\nh\ni\nn\ng\n5\n25\n125\n625\n3125\n"
     ]
    }
   ],
   "source": [
    "# iterating range\n",
    "for x in range(0,10):\n",
    "    print(\"5 *\",x,\"=\",x*5)\n",
    "\n",
    "# iterating sequence\n",
    "for x in \"something\":\n",
    "    print(x)\n",
    "\n",
    "# loop as long as x < 5000\n",
    "# loop count depends on startvalue of x\n",
    "x = 5\n",
    "while x < 5000:\n",
    "    print(x)\n",
    "    x *= 5 "
   ]
  },
  {
   "source": [
    "## Combine conditions\n",
    "\n",
    "![title](https://s3.amazonaws.com/libapps/accounts/7346/images/Boolean-Ven.jpg)\n"
   ],
   "cell_type": "markdown",
   "metadata": {}
  },
  {
   "source": [
    "x=10\n",
    "y=3\n",
    "\n",
    "print(x!=y and x<y)\n",
    "print(x!=y or x<y)\n",
    "print(not(x<y))"
   ],
   "cell_type": "code",
   "metadata": {},
   "execution_count": 37,
   "outputs": [
    {
     "output_type": "stream",
     "name": "stdout",
     "text": [
      "False\nTrue\nTrue\n"
     ]
    }
   ]
  },
  {
   "cell_type": "code",
   "execution_count": 34,
   "metadata": {},
   "outputs": [
    {
     "output_type": "stream",
     "name": "stdout",
     "text": [
      "n is  5\n16\n8.0\n4.0\n2.0\n1.0\n"
     ]
    }
   ],
   "source": [
    "# Sequence of Hailstone\n",
    "# If n is 1 then the sequence ends.\n",
    "# If n is even then the next n of the sequence = n/2\n",
    "# If n is odd then the next n of the sequence = (3 * n) + 1\n",
    "\n",
    "n = int(input(\"Enter a number\"))\n",
    "print(\"n is \",n)\n",
    "\n",
    "while not (n == 1):    # same as n != 1\n",
    "    if (n % 2 == 0):\n",
    "        n/=2\n",
    "    else:\n",
    "        n = (3 * n) + 1\n",
    "    print(n)\n"
   ]
  },
  {
   "source": [
    "## Functions\n",
    "A function is a block of code which only runs when it is called. You can pass data, known as parameters, into a function. A function can return data as a result."
   ],
   "cell_type": "markdown",
   "metadata": {}
  },
  {
   "cell_type": "code",
   "execution_count": 45,
   "metadata": {},
   "outputs": [
    {
     "output_type": "stream",
     "name": "stdout",
     "text": [
      "5  is  positive\n-5  is  negative\n-4  is  negative\n-3  is  negative\n-2  is  negative\n-1  is  negative\n0  is  zero\n1  is  positive\n2  is  positive\n3  is  positive\n4  is  positive\n"
     ]
    }
   ],
   "source": [
    "def sign(x):\n",
    "    if x > 0:\n",
    "        return \"positive\"\n",
    "    elif x < 0:\n",
    "        return \"negative\"\n",
    "    else:\n",
    "        return \"zero\"\n",
    "\n",
    "x = int(input(\"Enter a number\"))\n",
    "print(x,\" is \",sign(x))\n",
    "\n",
    "for x in range(-5,5):\n",
    "    print(x,\" is \",sign(x))"
   ]
  },
  {
   "source": [
    "## Collections\n",
    "\n",
    "List = ordered & changeable collection <br>\n"
   ],
   "cell_type": "markdown",
   "metadata": {}
  },
  {
   "cell_type": "code",
   "execution_count": 61,
   "metadata": {},
   "outputs": [
    {
     "output_type": "stream",
     "name": "stdout",
     "text": [
      "[3, 1, 2] 2\n[3, 1, 'foo', 'bar']\nbar [3, 1, 'foo']\n[3, 1, 'foo', 8.3, False]\nFalse\n3\n1\nfoo\n8.3\nFalse\n[0, 1, 4, 9, 16]\nTrue\nFalse\nFalse\nTrue\n"
     ]
    }
   ],
   "source": [
    "list = [3, 1, 2]\n",
    "print(list,list[2])\n",
    "list[2] = \"foo\"\n",
    "list.append(\"bar\")\n",
    "print(list)\n",
    "x = list.pop()\n",
    "print(x,list)\n",
    "list=list + [8.3, False]\n",
    "print(list)\n",
    "print(list[-1])\n",
    "\n",
    "for x in list:\n",
    "    print(x)\n",
    "\n",
    "nrs = range(0,5)\n",
    "squares = [x ** 2 for x in nrs]\n",
    "print (squares)\n",
    "\n",
    "print(\"foo\" in list)\n",
    "print(\"foo\" not in list)\n",
    "print(\"bar\" in list)\n",
    "\n",
    "if False in list:\n",
    "    print(True);"
   ]
  },
  {
   "cell_type": "code",
   "execution_count": 64,
   "metadata": {},
   "outputs": [
    {
     "output_type": "stream",
     "name": "stdout",
     "text": [
      "1\t2\t3\t\n4\t5\t6\t\n7\t8\t9\t\n"
     ]
    }
   ],
   "source": [
    "list_of_lists = [ [1,2,3], [4,5,6], [7,8,9]]\n",
    "for list in list_of_lists:\n",
    "    for x in list:\n",
    "        print(x, end=\"\\t\")\n",
    "    print()"
   ]
  },
  {
   "source": [
    "Tuple = ordered & unchangeable collection <br>\n",
    "Set = unordered & unchangeable collection <br>\n",
    "Dictionary = unordered & changeable collection, does not allow duplicated <br>"
   ],
   "cell_type": "markdown",
   "metadata": {}
  },
  {
   "cell_type": "code",
   "execution_count": 87,
   "metadata": {},
   "outputs": [
    {
     "output_type": "stream",
     "name": "stdout",
     "text": [
      "('spring', 'summer', 'autumn', 'winter')\n{'mango', 'cherry', 'banana', 'apple'}\n{'a': 'apple', 'b': 'banana', 'c': 'citron'}\n{'a': 'apple', 'b': 'banana', 'c': 'citron', 'y': 'cherry'}\n"
     ]
    }
   ],
   "source": [
    "tuple = (\"spring\",\"summer\",\"autumn\",\"winter\")\n",
    "print(tuple)\n",
    "\n",
    "set = {\"apple\", \"banana\", \"cherry\"}\n",
    "set.add(\"mango\")\n",
    "set.add(\"apple\")\n",
    "print(set)\n",
    "\n",
    "dictionary = {\n",
    "    \"a\":\"apple\",\n",
    "    \"b\" : \"banana\",\n",
    "    \"c\" : \"cherry\",\n",
    "    \"c\" : \"citron\"\n",
    "}\n",
    "print(dictionary)\n",
    "dictionary[\"y\"] = \"cherry\"\n",
    "print(dictionary)\n"
   ]
  }
 ]
}