{
 "cells": [
  {
   "cell_type": "markdown",
   "metadata": {
    "collapsed": true,
    "pycharm": {
     "name": "#%% md\n"
    }
   },
   "source": [
    "# Python Libraries: Numpy\n",
    "\n",
    "Install the module: __pip install numpy__"
   ]
  },
  {
   "cell_type": "markdown",
   "metadata": {},
   "source": [
    "## Create an array\n",
    "\n",
    "There are several ways of creating and filling an array!"
   ]
  },
  {
   "cell_type": "code",
   "execution_count": 4,
   "metadata": {},
   "outputs": [
    {
     "output_type": "stream",
     "name": "stdout",
     "text": [
      "[1, 2, 3, 4, 5]\n[1 2 3 4 5]\n[1, 2, 3, 4, 5, 1, 2, 3, 4, 5]\n[ 2  4  6  8 10]\n"
     ]
    }
   ],
   "source": [
    "import numpy as np #import library\n",
    "\n",
    "list = [1,2,3,4,5] \n",
    "print(list) \n",
    "array = np.array([1,2,3,4,5]) \n",
    "print(array)\n",
    "\n",
    "print(list*2)\n",
    "print(array*2)\n"
   ]
  },
  {
   "cell_type": "code",
   "execution_count": 7,
   "metadata": {},
   "outputs": [
    {
     "output_type": "stream",
     "name": "stdout",
     "text": [
      "[0 1 2 3 4 5 6 7 8 9]\n[0. 0. 0. 0. 0. 0. 0. 0. 0. 0.]\n[[1. 1. 1.]\n [1. 1. 1.]]\n[7 7 7 7 7]\n[[1. 0. 0. 0.]\n [0. 1. 0. 0.]\n [0. 0. 1. 0.]\n [0. 0. 0. 1.]]\n[[0.34400512 0.04234007 0.99449629 0.08878798]]\n[[ -9   1  -9  10]\n [  9 -10   9   3]\n [ 10  -9  -2   5]\n [  6   6   5  10]]\n"
     ]
    }
   ],
   "source": [
    "print(np.arange(10)) \n",
    "print(np.zeros((10,)))              \n",
    "print(np.ones((2,3)))             \n",
    "print(np.full((5,), 7))\n",
    "print(np.eye(4))               \n",
    "print(np.random.random((1,4)))  \n",
    "print(np.random.random_integers(-10, 10, (4,4)))  \n"
   ]
  },
  {
   "cell_type": "markdown",
   "metadata": {},
   "source": [
    "## New datatypes\n",
    "By default Python has string, integer, float, boolean and complex as datatypes, but Numpy extends that list and refers to them with a single character:\n",
    "- i - integer\n",
    "- b - boolean\n",
    "- u - unsigned integer\n",
    "- f - float\n",
    "- c - complex float\n",
    "- m - timedelta\n",
    "- M - datetime\n",
    "- O - object\n",
    "- S - string\n",
    "- U - unicode string\n",
    "- V - fixed chunk of memory for other type ( void )\n",
    "\n",
    "Checking data types is always done by the built-in function __type() __, but due to the limitation of arrays consisting of elements of the same data type, we can also get the data type of the elements with the property __dtype__. Converting between two data types is quite easy with __astype()__ (only if it is convertable, otherwise you will get an error) and getting information about the dimensions is done by properties __shape__ and __ndim__. Note that your array is fixed size once created, but you can easily transform it in anoher shape with different dimensions by __reshape()__"
   ]
  },
  {
   "cell_type": "code",
   "execution_count": 44,
   "metadata": {},
   "outputs": [
    {
     "output_type": "stream",
     "name": "stdout",
     "text": "[1 2 3 4 5 6 7 8]\n<class 'list'>\n<class 'numpy.ndarray'>\nint32\n[1. 2. 3. 4. 5. 6. 7. 8.]\nfloat32\nSHAPE: (8,) DIM: 1\n[[1 2]\n [3 4]\n [5 6]\n [7 8]]\nSHAPE: (4, 2) DIM: 2\n[[[1 2]\n  [3 4]]\n\n [[5 6]\n  [7 8]]]\nSHAPE: (2, 2, 2) DIM: 3\n"
    }
   ],
   "source": [
    "array = np.array([1, 2, 3, 4, 5, 6,7,8])\n",
    "print(array)\n",
    "\n",
    "print(type([1, 2, 3, 4, 5]))    #list\n",
    "print(type(array))              #mNumpy array\n",
    "print(array.dtype)\n",
    "new_array = array.astype('f')\n",
    "print(new_array)\n",
    "print(new_array.dtype)\n",
    "\n",
    "print(\"SHAPE: \" + str(array.shape) + \" DIM: \" + str(array.ndim))\n",
    "\n",
    "array_2D = np.reshape(array, (4,2))\n",
    "print(array_2D)\n",
    "print(\"SHAPE: \" + str(array_2D.shape) + \" DIM: \" + str(array_2D.ndim))\n",
    "array_3D = np.reshape(array, (2,2,2))\n",
    "print(array_3D)\n",
    "print(\"SHAPE: \" + str(array_3D.shape) + \" DIM: \" + str(array_3D.ndim))"
   ]
  },
  {
   "cell_type": "markdown",
   "metadata": {},
   "source": [
    "## A slice of array\n",
    "\n",
    "Slicing in python means taking elements from one given (start)index to another given (end)index like this \\[start: end\\]. To define a step size, just add it to the brackets as follows \\[start: end: step\\]. If you don't pass anything, it's considered to be 0 at the start, full length at the end, and step as 1. It quite useful to know these shortcodes. Also remember that you can use negative indexes."
   ]
  },
  {
   "cell_type": "code",
   "execution_count": 12,
   "metadata": {},
   "outputs": [
    {
     "output_type": "stream",
     "name": "stdout",
     "text": [
      "[  0   1   8  27  64 125 216 343]\n[ 8 27 64]\n[ 0  1  8 27]\n[ 64 125 216 343]\n[ -1   1   8  -1  64 125  -1 343]\n[343  -1 125  64  -1   8   1  -1]\n[  1  -1 125 343]\n"
     ]
    }
   ],
   "source": [
    "a = np.arange(8)**3    # exponent 3 --> 0^3 1^3 2^3 3^3 ...\n",
    "print(a)\n",
    "print(a[2:5])\n",
    "print(a[:4])           \n",
    "print(a[4:])\n",
    "a[::3] = -1         \n",
    "print(a)   \n",
    "print(a[::-1])  #reverse          \n",
    "print(a[1::2])  # odd indexes                "
   ]
  },
  {
   "cell_type": "markdown",
   "metadata": {},
   "source": [
    "## Array operations\n",
    "\n",
    "Numpy has tons of methods to perform any kind of operation on an array, here we discuss just a few that might come in handy!"
   ]
  },
  {
   "cell_type": "code",
   "execution_count": 116,
   "metadata": {},
   "outputs": [
    {
     "output_type": "stream",
     "name": "stdout",
     "text": "[0 1 2 3 4 5 6 7 8 9]\n[9 8 7 6 5 4 3 2 1 0]\n[-9 -7 -5 -3 -1  1  3  5  7  9]\n[ True  True  True  True  True False False False False False]\n(array([0, 1, 2, 3, 4], dtype=int32),)\n[0 2 1 0 2 1 0 2 1 0]\n[0 3 3 3 6 6 6 9 9 9]\n[ 0  2  2  4  4  6  6  8  8 10]\n[[9 8 7 6 5]\n [4 3 2 1 0]]\n[13 11  9  7  5]\n[5 0]\n[[ 9 17 24 30 35]\n [ 4  7  9 10 10]]\n[[3.         2.82842712 2.64575131 2.44948974 2.23606798]\n [2.         1.73205081 1.41421356 1.         0.        ]]\n"
    }
   ],
   "source": [
    "a = np.arange(0,10)     #exclusive end\n",
    "b = np.arange(9,-1,-1)\n",
    "print(a)\n",
    "print(b)\n",
    "c = a-b\n",
    "print(c)\n",
    "print(c<0)\n",
    "print(np.where(c<0))\n",
    "c %= 3\n",
    "print(c)\n",
    "print(np.add(a, c))\n",
    "print(np.where(a%2==1,a+1,a)) #check condition, if condition == true, a+1, else a\n",
    "\n",
    "b = np.reshape(b,(2,5))\n",
    "print(b)\n",
    "print(b.sum(axis=0))         # sum of each column\n",
    "print(b.min(axis=1))         # min of each row\n",
    "print(b.cumsum(axis=1))      # cumulative sum along each row\n",
    "print(np.sqrt(b))"
   ]
  },
  {
   "cell_type": "code",
   "execution_count": 127,
   "metadata": {},
   "outputs": [
    {
     "output_type": "stream",
     "name": "stdout",
     "text": "[1 2 3 1 1 0 1 0 0]\n[[1 2 3]\n [1 1 0]\n [1 0 0]]\n"
    }
   ],
   "source": [
    "import numpy as np\n",
    "\n",
    "a=np.random.randint(4, size=9)\n",
    "print(a)\n",
    "print(np.reshape(a,(3,3)))"
   ]
  },
  {
   "cell_type": "markdown",
   "metadata": {},
   "source": [
    "## Practice makes perfect\n",
    "### Random matrix\n",
    "Create a x*x matrix filled with values ranging from 0 to x, __x is given by user__\n",
    "eg: x = 3 \n",
    "```\n",
    "[[1 2 3]\n",
    " [1 1 0]\n",
    " [1 0 0]]\n",
    "```\n",
    "\n",
    "- Find indices of non-zero elements\n",
    "- Find all occurences of x\n",
    "- Transform the even number to odd ones\n",
    "- Create a new matrix with the same credentials\n",
    "- Find common items between the two matrices\n",
    "- Remove all common items in the second matrix\n",
    "- Transform the first array, colums become rows and vice versa\n",
    "- Randomize the second matrix again\n",
    "- Sort the second matrix\n",
    "- ...\n"
   ]
  }
 ],
 "metadata": {
  "kernelspec": {
   "display_name": "Python 3.8.2 32-bit",
   "language": "python",
   "name": "python38232bite686985caf77426a88103896520609eb"
  },
  "language_info": {
   "codemirror_mode": {
    "name": "ipython",
    "version": 3
   },
   "file_extension": ".py",
   "mimetype": "text/x-python",
   "name": "python",
   "nbconvert_exporter": "python",
   "pygments_lexer": "ipython3",
   "version": "3.9.1-final"
  },
  "pycharm": {
   "stem_cell": {
    "cell_type": "raw",
    "metadata": {
     "collapsed": false
    },
    "source": []
   }
  }
 },
 "nbformat": 4,
 "nbformat_minor": 1
}