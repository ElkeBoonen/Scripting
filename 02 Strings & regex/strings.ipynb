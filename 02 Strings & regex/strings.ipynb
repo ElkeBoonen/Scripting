{
 "metadata": {
  "language_info": {
   "codemirror_mode": {
    "name": "ipython",
    "version": 3
   },
   "file_extension": ".py",
   "mimetype": "text/x-python",
   "name": "python",
   "nbconvert_exporter": "python",
   "pygments_lexer": "ipython3",
   "version": "3.9.1-final"
  },
  "orig_nbformat": 2,
  "kernelspec": {
   "name": "python3",
   "display_name": "Python 3.9.1 64-bit",
   "metadata": {
    "interpreter": {
     "hash": "4716b34df6b0e0d61b0a44c71db573090ba3cead5b261234431b6b3bdee224c4"
    }
   }
  }
 },
 "nbformat": 4,
 "nbformat_minor": 2,
 "cells": [
  {
   "source": [
    "# Working with strings\n",
    "## If it's raw, you can't escape!"
   ],
   "cell_type": "markdown",
   "metadata": {}
  },
  {
   "cell_type": "code",
   "execution_count": 12,
   "metadata": {},
   "outputs": [
    {
     "output_type": "stream",
     "name": "stdout",
     "text": [
      "This is Alice's cat.\nMary: \"Hello\"\nMary: \"This is Alice's cat.\"\nMary: \\\"This is Alice's cat.\\\"\n"
     ]
    }
   ],
   "source": [
    "# print('This is Alice's cat.')\n",
    "print(\"This is Alice's cat.\")\n",
    "print('Mary: \"Hello\"')\n",
    "print(\"Mary: \\\"This is Alice's cat.\\\"\")\n",
    "print(R\"Mary: \\\"This is Alice's cat.\\\"\")\n"
   ]
  },
  {
   "source": [
    "## Within the string"
   ],
   "cell_type": "markdown",
   "metadata": {}
  },
  {
   "cell_type": "code",
   "execution_count": 22,
   "metadata": {},
   "outputs": [
    {
     "output_type": "stream",
     "name": "stdout",
     "text": [
      "his\nThis\n is Alice's cat.\n.tac s'ecilA si sihT\nhsi lc' a.\nTrue\nTrue\nTrue\n"
     ]
    }
   ],
   "source": [
    "string = \"This is Alice's cat.\"\n",
    "print(string[1:4])\n",
    "print(string[:4])           \n",
    "print(string[4:])\n",
    "print(string[::-1])  #reverse          \n",
    "print(string[1::2])\n",
    "print(\"cat\" in string)\n",
    "print(\"Cat\" not in string)"
   ]
  },
  {
   "source": [
    "## You need a split to join!\n",
    "\n",
    "By default, the string 'Hello my name is Elke' is split wherever whitespace characters such as the space, tab, or newline characters are found, but you can pass a delimiters to specify where a string must split. The join() method is useful when you have a list of strings that need to be joined together into a single string value."
   ],
   "cell_type": "markdown",
   "metadata": {}
  },
  {
   "cell_type": "code",
   "execution_count": 10,
   "metadata": {},
   "outputs": [
    {
     "output_type": "stream",
     "name": "stdout",
     "text": [
      "['Hello', 'my', 'name', 'is', 'elke']\n['H', 'llo my nam', ' is   ', 'lk', '']\n['H', 'lo my name is   ', 'ke']\nHello-my-name-is-elke\n"
     ]
    }
   ],
   "source": [
    "string =\"Hello my name is   elke\"\n",
    "print(string.split())\n",
    "print(string.split(\"e\"))\n",
    "print(string.split(\"el\"))\n",
    "print(\"-\".join(string.split()))"
   ]
  },
  {
   "source": [
    "##  Useful isX()-methods"
   ],
   "cell_type": "markdown",
   "metadata": {}
  },
  {
   "cell_type": "code",
   "execution_count": 33,
   "metadata": {},
   "outputs": [
    {
     "output_type": "stream",
     "name": "stdout",
     "text": [
      "tESTING-SPACE--SPACE--SPACE-\n6\n"
     ]
    }
   ],
   "source": [
    "string = \"Testing 1 2 3\"\n",
    "\n",
    "new_string=\"\"\n",
    "sum_string=0\n",
    "for c in string:\n",
    "    if c.islower():\n",
    "        new_string += c.upper()\n",
    "    elif c.isupper():\n",
    "        new_string += c.lower()\n",
    "    elif c.isdigit():\n",
    "        sum_string += int(c)\n",
    "    elif c.isspace():\n",
    "        new_string += \"-SPACE-\"\n",
    "print(new_string)\n",
    "print(sum_string)\n",
    "\n"
   ]
  },
  {
   "source": [
    "## Strip a noisy string\n",
    "We can remove whitespace with the strip(), rstrip(), and lstrip()"
   ],
   "cell_type": "markdown",
   "metadata": {}
  },
  {
   "cell_type": "code",
   "execution_count": 11,
   "metadata": {},
   "outputs": [
    {
     "output_type": "stream",
     "name": "stdout",
     "text": [
      "Let's strip this string             \n   Let's strip this string\nLet's strip this string\n"
     ]
    }
   ],
   "source": [
    "string =\"   Let's strip this string             \";\n",
    "print(string.lstrip())\n",
    "print(string.rstrip())\n",
    "print(string.strip())"
   ]
  },
  {
   "source": [
    "## ASCII tables\n",
    "http://www.asciitable.com/ \n"
   ],
   "cell_type": "markdown",
   "metadata": {}
  },
  {
   "cell_type": "code",
   "execution_count": 18,
   "metadata": {},
   "outputs": [
    {
     "output_type": "stream",
     "name": "stdout",
     "text": [
      "The ASCII value of A is 65\n@ comes before A in the ASCII table\n"
     ]
    }
   ],
   "source": [
    "print(\"The ASCII value of A is\", ord(\"A\"))\n",
    "print(chr(ord(\"A\")-1),\"comes before A in the ASCII table\")"
   ]
  }
 ]
}