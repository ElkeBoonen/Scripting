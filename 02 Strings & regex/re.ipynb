{
 "cells": [
  {
   "cell_type": "markdown",
   "metadata": {
    "collapsed": true,
    "pycharm": {
     "name": "#%% md\n"
    }
   },
   "source": [
    "# Python standard library: re\n",
    "Need some help finding the right regex? Use a regex tool online, for example: https://regexr.com/ \n",
    "\n",
    "Check which packages / libraries are available on your system?"
   ]
  },
  {
   "cell_type": "code",
   "execution_count": 7,
   "metadata": {},
   "outputs": [
    {
     "output_type": "stream",
     "name": "stdout",
     "text": [
      "\n",
      "Please wait a moment while I gather a list of all available modules...\n",
      "\n",
      "IPython             bz2                 msvcrt              sysconfig\n",
      "__future__          cProfile            multiprocessing     tabnanny\n",
      "_abc                calendar            netbios             tarfile\n",
      "_aix_support        cgi                 netrc               telnetlib\n",
      "_ast                cgitb               nntplib             tempfile\n",
      "_asyncio            chunk               normalizeForInterpreter testlauncher\n",
      "_bisect             cmath               nt                  tests\n",
      "_blake2             cmd                 ntpath              textwrap\n",
      "_bootlocale         code                ntsecuritycon       this\n",
      "_bootsubprocess     codecs              nturl2path          threading\n",
      "_bz2                codeop              numbers             time\n",
      "_codecs             collections         numpy               timeit\n",
      "_codecs_cn          colorama            odbc                timer\n",
      "_codecs_hk          colorsys            opcode              tkinter\n",
      "_codecs_iso2022     commctrl            operator            token\n",
      "_codecs_jp          compileall          optparse            tokenize\n",
      "_codecs_kr          completion          os                  tornado\n",
      "_codecs_tw          concurrent          parser              trace\n",
      "_collections        configparser        parso               traceback\n",
      "_collections_abc    contextlib          pathlib             tracemalloc\n",
      "_compat_pickle      contextvars         pdb                 traitlets\n",
      "_compression        copy                perfmon             tty\n",
      "_contextvars        copyreg             pickle              turtle\n",
      "_csv                crypt               pickleshare         turtledemo\n",
      "_ctypes             csv                 pickletools         types\n",
      "_datetime           ctypes              pip                 typing\n",
      "_decimal            curses              pipes               unicodedata\n",
      "_elementtree        cythonmagic         pkg_resources       unittest\n",
      "_functools          dataclasses         pkgutil             urllib\n",
      "_hashlib            datetime            platform            uu\n",
      "_heapq              dateutil            plistlib            uuid\n",
      "_imp                dbi                 poplib              venv\n",
      "_io                 dbm                 posixpath           visualstudio_py_testlauncher\n",
      "_json               dde                 pprint              vscode_datascience_helpers\n",
      "_locale             decimal             printEnvVariables   warnings\n",
      "_lsprof             decorator           printEnvVariablesToFile wave\n",
      "_lzma               difflib             profile             wcwidth\n",
      "_markupbase         dis                 prompt_toolkit      weakref\n",
      "_md5                distutils           pstats              webbrowser\n",
      "_msi                doctest             pty                 win2kras\n",
      "_multibytecodec     easy_install        py_compile          win32api\n",
      "_multiprocessing    email               pyclbr              win32clipboard\n",
      "_opcode             encodings           pydoc               win32com\n",
      "_operator           ensurepip           pydoc_data          win32con\n",
      "_osx_support        enum                pyexpat             win32console\n",
      "_overlapped         errno               pygments            win32cred\n",
      "_peg_parser         faulthandler        pyls_jsonrpc        win32crypt\n",
      "_pickle             filecmp             pythoncom           win32cryptcon\n",
      "_py_abc             fileinput           pyvsc-run-isolated  win32event\n",
      "_pydecimal          fnmatch             pywin               win32evtlog\n",
      "_pyio               formatter           pywin32_bootstrap   win32evtlogutil\n",
      "_queue              fractions           pywin32_testutil    win32file\n",
      "_random             ftplib              pywintypes          win32gui\n",
      "_sha1               functools           queue               win32gui_struct\n",
      "_sha256             gc                  quopri              win32help\n",
      "_sha3               genericpath         random              win32inet\n",
      "_sha512             getopt              rasutil             win32inetcon\n",
      "_signal             getpass             re                  win32job\n",
      "_sitebuiltins       gettext             regcheck            win32lz\n",
      "_socket             glob                regutil             win32net\n",
      "_sqlite3            graphlib            reprlib             win32netcon\n",
      "_sre                gzip                rlcompleter         win32pdh\n",
      "_ssl                hashlib             rmagic              win32pdhquery\n",
      "_stat               heapq               runJediLanguageServer win32pdhutil\n",
      "_statistics         hmac                runpy               win32pipe\n",
      "_string             html                sched               win32print\n",
      "_strptime           http                secrets             win32process\n",
      "_struct             idlelib             select              win32profile\n",
      "_symtable           imaplib             selectors           win32ras\n",
      "_thread             imghdr              servicemanager      win32rcparser\n",
      "_threading_local    imp                 setuptools          win32security\n",
      "_tkinter            importlib           shell_exec          win32service\n",
      "_tracemalloc        inspect             shelve              win32serviceutil\n",
      "_uuid               install_debugpy     shlex               win32timezone\n",
      "_warnings           interpreterInfo     shutil              win32trace\n",
      "_weakref            io                  signal              win32traceutil\n",
      "_weakrefset         ipaddress           site                win32transaction\n",
      "_win32sysloader     ipykernel           six                 win32ts\n",
      "_winapi             ipykernel_launcher  smtpd               win32ui\n",
      "_winxptheme         ipython_genutils    smtplib             win32uiole\n",
      "_xxsubinterpreters  isapi               sndhdr              win32verstamp\n",
      "_zoneinfo           itertools           socket              win32wnet\n",
      "abc                 jedi                socketserver        winerror\n",
      "adodbapi            json                sqlite3             winioctlcon\n",
      "afxres              jupyter             sre_compile         winnt\n",
      "aifc                jupyter_client      sre_constants       winperf\n",
      "antigravity         jupyter_core        sre_parse           winreg\n",
      "argparse            keyword             ssl                 winsound\n",
      "array               lib2to3             sspi                winxpgui\n",
      "ast                 linecache           sspicon             winxptheme\n",
      "asynchat            locale              stat                wsgiref\n",
      "asyncio             logging             statistics          xdrlib\n",
      "asyncore            lzma                storemagic          xml\n",
      "atexit              mailbox             string              xmlrpc\n",
      "audioop             mailcap             stringprep          xxsubtype\n",
      "autoreload          marshal             struct              zipapp\n",
      "backcall            math                subprocess          zipfile\n",
      "base64              mimetypes           sunau               zipimport\n",
      "bdb                 mmap                symbol              zlib\n",
      "binascii            mmapfile            symbolProvider      zmq\n",
      "binhex              mmsystem            sympyprinting       zoneinfo\n",
      "bisect              modulefinder        symtable            \n",
      "builtins            msilib              sys                 \n",
      "\n",
      "Enter any module name to get more help.  Or, type \"modules spam\" to search\n",
      "for modules whose name or summary contain the string \"spam\".\n",
      "\n"
     ]
    }
   ],
   "source": [
    "help ('modules')"
   ]
  },
  {
   "cell_type": "markdown",
   "metadata": {},
   "source": [
    "## Python prefers it raw\n",
    "\n",
    "In strings, the backslash character (\\) is used to escape characters that have special meaning, such as a newline, a quotation mark or the backslash itself. When we prefix a string with the letter `r' or `R', Python will threat the backslash as a literal character, very usefull in handling regular expressions.\n"
   ]
  },
  {
   "cell_type": "code",
   "execution_count": 8,
   "metadata": {},
   "outputs": [
    {
     "output_type": "stream",
     "name": "stdout",
     "text": [
      "Hi\nHello\n\nHi\\nHello\n"
     ]
    }
   ],
   "source": [
    "string = 'Hi\\nHello\\n'\n",
    "print(string)\n",
    "\n",
    "raw_string = R'Hi\\nHello'\n",
    "print(raw_string)"
   ]
  },
  {
   "cell_type": "markdown",
   "metadata": {
    "pycharm": {
     "name": "#%% md\n"
    }
   },
   "source": [
    "## Who seeks shall find\n",
    "The __search__ method scans through a string looking for the first location where the regex pattern produces a match. It returns a corresponding MatchObject or None if nothing was found. The MatchObject has properties and methods used to retrieve information about the search:\n",
    "- span() returns a tuple containing the start-, and end positions of the match.\n",
    "- group() returns the part of the string where there was a match\n",
    "\n",
    "The __findall__ method returns a list containing all matches.\n",
    "\n",
    "\n",
    "\n"
   ]
  },
  {
   "cell_type": "code",
   "execution_count": 34,
   "metadata": {
    "pycharm": {
     "name": "#%%\n"
    }
   },
   "outputs": [
    {
     "output_type": "stream",
     "name": "stdout",
     "text": [
      "First occurence = 1\nLocation of match = (10, 11)\n['1', '0', '1', '1']\n['10', '1', '1']\n['1', '0', '1', '1']\n"
     ]
    }
   ],
   "source": [
    "import re\n",
    "\n",
    "string = \"There are 10 kinds of people, those who understand binary and those who don't! Are you 1 of the 1st group?\"\n",
    "\n",
    "#finding all digits\n",
    "result = re.search(r'\\d', string)\n",
    "print(\"First occurence = \" + result.group())\n",
    "print(\"Location of match = \" + str(result.span()))\n",
    "\n",
    "result = re.findall(r'\\d', string)\n",
    "print(result)\n",
    "#finding all numbers\n",
    "result = re.findall(r'\\d+', string)\n",
    "print(result)\n",
    "\n",
    "#many ways to regex\n",
    "result = re.findall('[0-9]', string)\n",
    "print(result)\n"
   ]
  },
  {
   "cell_type": "markdown",
   "metadata": {},
   "source": [
    "## To compile or not to compile?\n",
    "The __compile__ method compiles a regular expression into a pattern object that can be easily reused. \n",
    "\n",
    "The previous example generates the exact same output as the following, but using re.compile is more efficient when the expression is used multiple times in one program."
   ]
  },
  {
   "cell_type": "code",
   "execution_count": 36,
   "metadata": {},
   "outputs": [
    {
     "output_type": "stream",
     "name": "stdout",
     "text": [
      "First occurence = 1\n['1', '0', '1', '1']\n['0', '4', '5', '6', '1', '2', '4', '5', '7', '8']\n"
     ]
    }
   ],
   "source": [
    "import re\n",
    "\n",
    "string = \"There are 10 kinds of people, those who understand binary and those who don't! Are you 1 of the 1st group?\"\n",
    "\n",
    "#finding all digits\n",
    "regex_object = re.compile(r'\\d')\n",
    "result = regex_object.search(string)\n",
    "print(\"First occurence = \" + result.group())\n",
    "result = regex_object.findall(string)\n",
    "print(result)\n",
    "\n",
    "result = regex_object.findall(\"My number is 0456 12 45 78\")\n",
    "print(result)\n"
   ]
  },
  {
   "cell_type": "markdown",
   "metadata": {},
   "source": [
    "## We've got a match!\n",
    "What about the method __match__? It only searches for a match in the beginning of a string!"
   ]
  },
  {
   "cell_type": "code",
   "execution_count": 40,
   "metadata": {},
   "outputs": [
    {
     "output_type": "stream",
     "name": "stdout",
     "text": [
      "None\n<re.Match object; span=(10, 11), match='1'>\n"
     ]
    }
   ],
   "source": [
    "import re\n",
    "\n",
    "string = \"There are 10 kinds of people, those who understand binary and those who don't! Are you 1 of the 1st group?\"\n",
    "\n",
    "#it will not find a digit... because the string doesn't start with a number...\n",
    "regex_object = re.compile(r'\\d')\n",
    "print(regex_object.match(string))\n",
    "regex_object = re.compile(r'\\d')\n",
    "print(regex_object.search(string))\n"
   ]
  },
  {
   "cell_type": "markdown",
   "metadata": {},
   "source": [
    "## You need a match to split\n",
    "The __split__ returns a list where the string has been split at each match\n"
   ]
  },
  {
   "cell_type": "code",
   "execution_count": 45,
   "metadata": {},
   "outputs": [
    {
     "output_type": "stream",
     "name": "stdout",
     "text": [
      "['There are ', '', ' kinds of people, those who understand binary and those who dont! Are you ', ' of the ', 'st group?']\n"
     ]
    }
   ],
   "source": [
    "import re\n",
    "\n",
    "string = \"There are 10 kinds of people, those who understand binary and those who don't! Are you 1 of the 1st group?\"\n",
    "#finding all digits\n",
    "regex_object = re.compile(r'\\d')\n",
    "result = regex_object.split(string)\n",
    "print(result)"
   ]
  },
  {
   "cell_type": "markdown",
   "metadata": {},
   "source": [
    "## Replace or be replaced, substitute\n",
    "\n",
    "The method __sub__ replaces one or many matches with a string"
   ]
  },
  {
   "cell_type": "code",
   "execution_count": 46,
   "metadata": {},
   "outputs": [
    {
     "output_type": "stream",
     "name": "stdout",
     "text": [
      "There are DIGITDIGIT kinds of people, those who understand binary and those who don't! Are you DIGIT of the DIGITst group?\n"
     ]
    }
   ],
   "source": [
    "import re\n",
    "\n",
    "string = \"There are 10 kinds of people, those who understand binary and those who don't! Are you 1 of the 1st group?\"\n",
    "\n",
    "#finding all digits\n",
    "regex_object = re.compile(r'\\d')\n",
    "result = regex_object.sub(\"DIGIT\", string)\n",
    "print(result)"
   ]
  },
  {
   "cell_type": "markdown",
   "metadata": {},
   "source": [
    "## Practice makes perfect\n",
    "\n",
    "Try to find:\n",
    "- all numbers (not the individual digits)\n",
    "- all numbers starting a string\n",
    "- alle numbers ending a string\n",
    "- all numbers surrounded by alfabethical characters\n",
    "- all strings containing only alfabethical characters\n",
    "- all strings containing only only digits\n",
    "- all strings containing only consonants\n",
    "- all strings containing only vowels\n",
    "- all strings consisting of the letters of lorem: lorem, merol, moerl...\n",
    "- all strings consisting of the letters of a given word (use input)\n",
    "- can you find more?\n"
   ]
  },
  {
   "cell_type": "code",
   "execution_count": null,
   "metadata": {},
   "outputs": [],
   "source": [
    "import re\n",
    "\n",
    "string = \"Pleff lorem monaq morel plaff lerom baple merol pliff ipsum ponaq mipsu ploff pimsu caple supim pluff sumip qon4q issum daple ussum 100aq ossom fap25 abcde tonaq fghij gaple klmno vonaq pqrst haple uvwxy nonaq zzzz. Laple pleff lorem monaq mo5el plaff sumip qonaq issum daple ussum ponaq gaple klm50 lorem monaq morel plaff lerom baple merol pliff ipsum ponaq mipsu ploff 12345 caple supim pluff sumip qonaq issum daple ussum ronaq ossom faple abc75 tonaq fghij gaple klmno vonaq pqrst haple uvwxy nonaq zzzzz laple pleff lorem monaq morel plaff sumip qonaq issum daple ussum ponaq gapl.\"\n",
    "\n",
    "##Go GO GO \n"
   ]
  }
 ],
 "metadata": {
  "kernelspec": {
   "display_name": "Python 3.8.2 32-bit",
   "language": "python",
   "name": "python38232bite686985caf77426a88103896520609eb"
  },
  "language_info": {
   "codemirror_mode": {
    "name": "ipython",
    "version": 3
   },
   "file_extension": ".py",
   "mimetype": "text/x-python",
   "name": "python",
   "nbconvert_exporter": "python",
   "pygments_lexer": "ipython3",
   "version": "3.9.2-final"
  },
  "pycharm": {
   "stem_cell": {
    "cell_type": "raw",
    "metadata": {
     "collapsed": false
    },
    "source": []
   }
  }
 },
 "nbformat": 4,
 "nbformat_minor": 1
}