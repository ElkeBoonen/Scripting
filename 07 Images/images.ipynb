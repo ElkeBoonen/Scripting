{
 "metadata": {
  "language_info": {
   "codemirror_mode": {
    "name": "ipython",
    "version": 3
   },
   "file_extension": ".py",
   "mimetype": "text/x-python",
   "name": "python",
   "nbconvert_exporter": "python",
   "pygments_lexer": "ipython3",
   "version": "3.9.1"
  },
  "orig_nbformat": 2,
  "kernelspec": {
   "name": "python391jvsc74a57bd04716b34df6b0e0d61b0a44c71db573090ba3cead5b261234431b6b3bdee224c4",
   "display_name": "Python 3.9.1 64-bit"
  },
  "metadata": {
   "interpreter": {
    "hash": "4716b34df6b0e0d61b0a44c71db573090ba3cead5b261234431b6b3bdee224c4"
   }
  }
 },
 "nbformat": 4,
 "nbformat_minor": 2,
 "cells": [
  {
   "source": [
    "# Images\n",
    "\n",
    "pip install Pillow\n",
    "\n",
    "Working with a bunch of images can be very boring, but Python has a brilliant third-party module for working with image files, it has several functions to crop, resize and edit content so it's very easy to manipulate thousands of images. Yay, because that's why we love scripting!\n",
    "\n",
    "## Colors and RGB values"
   ],
   "cell_type": "markdown",
   "metadata": {}
  },
  {
   "cell_type": "code",
   "execution_count": 9,
   "metadata": {},
   "outputs": [
    {
     "output_type": "stream",
     "name": "stdout",
     "text": [
      "(255, 0, 0, 255)\n(255, 0, 0, 255)\n(0, 0, 0, 255)\n(210, 105, 30, 255)\n(100, 149, 237, 255)\n"
     ]
    }
   ],
   "source": [
    "from PIL import ImageColor\n",
    "print(ImageColor.getcolor('red', 'RGBA'))\n",
    "print(ImageColor.getcolor('RED', 'RGBA'))\n",
    "print(ImageColor.getcolor('Black', 'RGBA'))\n",
    "print(ImageColor.getcolor('chocolate', 'RGBA'))\n",
    "print(ImageColor.getcolor('CornflowerBlue', 'RGBA'))\n"
   ]
  },
  {
   "source": [
    "## Loading images & check properties\n",
    "\n",
    "Get an image from https://picsum.photos/images"
   ],
   "cell_type": "markdown",
   "metadata": {}
  },
  {
   "cell_type": "code",
   "execution_count": 21,
   "metadata": {},
   "outputs": [
    {
     "output_type": "stream",
     "name": "stdout",
     "text": [
      "(4951, 3301)\n",
      "4951 3301\n",
      "dog.jpg\n",
      "JPEG JPEG (ISO 10918)\n",
      "PNG Portable network graphics\n"
     ]
    }
   ],
   "source": [
    "from PIL import Image\n",
    "\n",
    "jpgimg = Image.open('dog.jpg')\n",
    "\n",
    "print(jpgimg.size)\n",
    "\n",
    "width, height = jpgimg.size\n",
    "print(width, height)\n",
    "\n",
    "print(jpgimg.filename)\n",
    "print(jpgimg.format,jpgimg.format_description)\n",
    "jpgimg.save('dog.png')\n",
    "\n",
    "pngimg = Image.open('dog.png')\n",
    "print(pngimg.format, pngimg.format_description)"
   ]
  },
  {
   "source": [
    "## Creating new images"
   ],
   "cell_type": "markdown",
   "metadata": {}
  },
  {
   "cell_type": "code",
   "execution_count": 47,
   "metadata": {},
   "outputs": [],
   "source": [
    "from PIL import Image\n",
    "img = Image.new('RGBA', (100, 200), 'purple')\n",
    "img.save('purple.png')\n",
    "img = Image.new('RGBA', (20, 20))\n",
    "img.save('transparant.png')\n",
    "img = Image.new('RGBA', (200, 200), (0,255,0,100))\n",
    "img.save('green.png')\n",
    "\n",
    "img.show()"
   ]
  },
  {
   "source": [
    "## Cropping images\n",
    "\n",
    "Crop a part of an image and copy/paste it to another one!"
   ],
   "cell_type": "markdown",
   "metadata": {}
  },
  {
   "cell_type": "code",
   "execution_count": 41,
   "metadata": {},
   "outputs": [],
   "source": [
    "from PIL import Image\n",
    "img = Image.open('dog.jpg')\n",
    "\n",
    "img = img.crop((2100, 200, 2800, 1000))\n",
    "img.save('cropped.png')\n"
   ]
  },
  {
   "cell_type": "code",
   "execution_count": 36,
   "metadata": {},
   "outputs": [],
   "source": [
    "from PIL import Image\n",
    "\n",
    "img = Image.open('dog.jpg')\n",
    "crop = img.crop((2100, 200, 2800, 1000))\n",
    "\n",
    "copyimg = img.copy()\n",
    "copyimg.paste(crop, (0,0))\n",
    "copyimg.paste(crop, (2000,1500))\n",
    "copyimg.paste(crop, (4000,3000))\n",
    "copyimg.save('dog2.jpg')\n"
   ]
  },
  {
   "cell_type": "code",
   "execution_count": 35,
   "metadata": {},
   "outputs": [
    {
     "output_type": "stream",
     "name": "stdout",
     "text": [
      "0 0\n0 800\n0 1600\n0 2400\n0 3200\n700 0\n700 800\n700 1600\n700 2400\n700 3200\n1400 0\n1400 800\n1400 1600\n1400 2400\n1400 3200\n2100 0\n2100 800\n2100 1600\n2100 2400\n2100 3200\n2800 0\n2800 800\n2800 1600\n2800 2400\n2800 3200\n3500 0\n3500 800\n3500 1600\n3500 2400\n3500 3200\n4200 0\n4200 800\n4200 1600\n4200 2400\n4200 3200\n4900 0\n4900 800\n4900 1600\n4900 2400\n4900 3200\n"
     ]
    }
   ],
   "source": [
    "from PIL import Image\n",
    "\n",
    "img = Image.open('dog.jpg')\n",
    "crop = img.crop((2100, 200, 2800, 1000))\n",
    "width, height = img.size\n",
    "facewidth, faceheight = crop.size\n",
    "\n",
    "newimg = Image.new('RGBA', (width, height), 'purple')\n",
    "for left in range(0, width, facewidth):\n",
    "    for top in range(0, height, faceheight):\n",
    "        img.paste(crop, (left, top))\n",
    "\n",
    "img.save('cropped2.jpg')"
   ]
  },
  {
   "source": [
    "## Resizing, rotating & flipping images"
   ],
   "cell_type": "markdown",
   "metadata": {}
  },
  {
   "cell_type": "code",
   "execution_count": 40,
   "metadata": {},
   "outputs": [],
   "source": [
    "from PIL import Image\n",
    "\n",
    "img = Image.open('dog.jpg')\n",
    "width, height = img.size\n",
    "\n",
    "halfsize = img.resize((int(width / 2), int(height / 2)))\n",
    "halfsize.save('halfsize.jpg')\n",
    "\n",
    "halfsize.rotate(90).save('rotated90.png')\n",
    "halfsize.rotate(180).save('rotated180.png')\n",
    "halfsize.rotate(270).save('rotated270.png')\n",
    "\n",
    "halfsize.transpose(Image.FLIP_LEFT_RIGHT).save('horizontal_flip.png')\n",
    "halfsize.transpose(Image.FLIP_TOP_BOTTOM).save('vertical_flip.png')"
   ]
  },
  {
   "source": [
    "## Pixels of the image"
   ],
   "cell_type": "markdown",
   "metadata": {}
  },
  {
   "cell_type": "code",
   "execution_count": 56,
   "metadata": {
    "tags": []
   },
   "outputs": [],
   "source": [
    "from PIL import Image\n",
    "\n",
    "img = Image.open('cropped.png')\n",
    "\n",
    "for x in range(0,img.width):\n",
    "    for y in range(0, img.height):\n",
    "        r,g,b = img.getpixel((x,y))\n",
    "        inverted = (255-r,255-g,255-b) \n",
    "        img.putpixel((x,y),inverted)\n",
    "\n",
    "img.show()"
   ]
  },
  {
   "cell_type": "code",
   "execution_count": 46,
   "metadata": {},
   "outputs": [],
   "source": [
    "from PIL import Image, ImageChops\n",
    "  \n",
    "img = Image.open('cropped.png')\n",
    "img = ImageChops.invert(img)\n",
    "img.show()"
   ]
  },
  {
   "source": [
    "## Drawing on images"
   ],
   "cell_type": "markdown",
   "metadata": {}
  },
  {
   "cell_type": "code",
   "execution_count": 63,
   "metadata": {},
   "outputs": [],
   "source": [
    "from PIL import Image, ImageDraw\n",
    "\n",
    "img = Image.new('RGBA', (200, 200), 'pink')\n",
    "\n",
    "draw = ImageDraw.Draw(img)\n",
    "draw.line([(0, 0), (199, 0), (199, 199), (0, 199), (0, 0)], fill='black')\n",
    "draw.rectangle((20, 30, 60, 60), fill='blue')\n",
    "draw.ellipse((120, 30, 160, 60), fill='red')\n",
    "draw.polygon(((57, 87), (79, 62), (94, 85), (120, 90), (103, 113)), fill='brown')\n",
    "for i in range(100, 200, 10):\n",
    "    draw.line([(i, 0), (200, i - 100)], fill='green')\n",
    "\n",
    "img.save('drawing.png')"
   ]
  },
  {
   "cell_type": "code",
   "execution_count": 64,
   "metadata": {},
   "outputs": [],
   "source": [
    "from PIL import Image, ImageDraw, ImageFont\n",
    "import os\n",
    "\n",
    "im = Image.new('RGBA', (200, 200), 'white')\n",
    "draw = ImageDraw.Draw(im)\n",
    "draw.text((20, 150), 'Hello', fill='purple')\n",
    "fontsFolder = 'FONT_FOLDER' # e.g. ‘/Library/Fonts'\n",
    "arialFont = ImageFont.truetype(os.path.join(fontsFolder, 'arial.ttf'), 32)\n",
    "draw.text((100, 150), 'Hello', fill='gray', font=arialFont)\n",
    "im.save('text.png')"
   ]
  },
  {
   "source": [
    "## Practice makes perfect!\n",
    "\n",
    "- Create a black/white logo from an image\n",
    "- Put that logo on to another image in the right bottom of the image\n",
    "- Find all images in a specific folder and give them all the same logo, also rename and resize them\n",
    "- Draw a self portrait ;)\n",
    "- Create a meme from scratch"
   ],
   "cell_type": "markdown",
   "metadata": {}
  }
 ]
}