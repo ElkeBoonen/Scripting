{
 "cells": [
  {
   "attachments": {},
   "cell_type": "markdown",
   "metadata": {},
   "source": [
    "# Working with databases\n",
    "\n",
    "- Import package mysql-connector-python https://dev.mysql.com/doc/connector-python/en/\n",
    "- Create database in Xampp with script <a href=\"movies.sql\">movies.sql</a>\n",
    "<br>\n",
    "<img src=\"database.jpg\">\n"
   ]
  },
  {
   "cell_type": "code",
   "execution_count": 1,
   "metadata": {},
   "outputs": [
    {
     "name": "stdout",
     "output_type": "stream",
     "text": [
      "Collecting mysql-connector-python\n",
      "  Downloading mysql_connector_python-8.0.33-cp37-cp37m-win_amd64.whl (9.6 MB)\n",
      "     ---------------------------------------- 9.6/9.6 MB 4.5 MB/s eta 0:00:00\n",
      "Collecting protobuf<=3.20.3,>=3.11.0\n",
      "  Downloading protobuf-3.20.3-cp37-cp37m-win_amd64.whl (905 kB)\n",
      "     -------------------------------------- 905.1/905.1 kB 3.8 MB/s eta 0:00:00\n",
      "Installing collected packages: protobuf, mysql-connector-python\n",
      "Successfully installed mysql-connector-python-8.0.33 protobuf-3.20.3\n"
     ]
    },
    {
     "name": "stderr",
     "output_type": "stream",
     "text": [
      "\n",
      "[notice] A new release of pip is available: 23.0.1 -> 23.1.2\n",
      "[notice] To update, run: python.exe -m pip install --upgrade pip\n"
     ]
    }
   ],
   "source": [
    "! pip install mysql-connector-python"
   ]
  },
  {
   "attachments": {},
   "cell_type": "markdown",
   "metadata": {},
   "source": [
    "## Connection database\n",
    "\n",
    "Default user & password van phpmyadmin (Xampp) are 'root' en ''"
   ]
  },
  {
   "cell_type": "code",
   "execution_count": 5,
   "metadata": {},
   "outputs": [
    {
     "name": "stdout",
     "output_type": "stream",
     "text": [
      "(1, 'Michelle Yeoh')\n",
      "(2, 'Stephan James')\n",
      "(3, 'Jamie Lee Curtis')\n",
      "(4, 'Tom Cruise')\n"
     ]
    }
   ],
   "source": [
    "import mysql.connector\n",
    "\n",
    "db = mysql.connector.connect(\n",
    "  host=\"localhost\",\n",
    "  user=\"root\",\n",
    "  password=\"\",\n",
    "  database=\"movies_db\"\n",
    ")\n",
    "\n",
    "cursor = db.cursor()\n",
    "\n",
    "# do something with cursor\n",
    "\n",
    "# close the cursor\n",
    "cursor.close()\n",
    "db.close()"
   ]
  },
  {
   "attachments": {},
   "cell_type": "markdown",
   "metadata": {},
   "source": [
    "## CRUD operations\n",
    "\n",
    "### CREATE --> add one row"
   ]
  },
  {
   "cell_type": "code",
   "execution_count": 6,
   "metadata": {},
   "outputs": [],
   "source": [
    "import mysql.connector\n",
    "\n",
    "# Connect to the database\n",
    "db = mysql.connector.connect(\n",
    "  host=\"localhost\",\n",
    "  user=\"root\",\n",
    "  password=\"\",\n",
    "  database=\"movies_db\"\n",
    ")\n",
    "\n",
    "# Create a cursor object\n",
    "cursor = db.cursor()\n",
    "\n",
    "# Insert a new row into the movies table\n",
    "insert_query = \"INSERT INTO movies (title, synopsis) VALUES (%s, %s)\"\n",
    "data = (\"The Matrix\", \"A computer hacker learns from mysterious rebels about the true nature of his reality and his role in the war against its controllers.\")\n",
    "cursor.execute(insert_query, data)\n",
    "\n",
    "# Commit the transaction\n",
    "db.commit()\n",
    "\n",
    "# Close the cursor and database connection\n",
    "cursor.close()\n",
    "db.close()\n"
   ]
  },
  {
   "attachments": {},
   "cell_type": "markdown",
   "metadata": {},
   "source": [
    "### CREATE --> add more rows"
   ]
  },
  {
   "cell_type": "code",
   "execution_count": 7,
   "metadata": {},
   "outputs": [],
   "source": [
    "import mysql.connector\n",
    "\n",
    "# establish connection\n",
    "db = mysql.connector.connect(\n",
    "  host=\"localhost\",\n",
    "  user=\"root\",\n",
    "  password=\"\",\n",
    "  database=\"movies_db\"\n",
    ")\n",
    "\n",
    "# prepare query\n",
    "query = \"INSERT INTO movies (title, synopsis) VALUES (%s, %s)\"\n",
    "\n",
    "# list of movies to insert\n",
    "movies = [\n",
    "  (\"Inception\", \"A thief is hired to plant an idea in the mind of a corporate executive.\"),\n",
    "  (\"Blade Runner\", \"A detective hunts down rogue replicants in a dystopian future.\"),\n",
    "  (\"Star Wars\", \"A farm boy joins a rebellion to overthrow an evil empire.\"),\n",
    "  (\"Jurassic Park\", \"Scientists create a theme park with cloned dinosaurs, which quickly goes awry.\")\n",
    "]\n",
    "\n",
    "# insert each movie\n",
    "cursor = db.cursor()\n",
    "for movie in movies:\n",
    "  cursor.execute(query, movie)\n",
    "\n",
    "# commit changes and close connection\n",
    "db.commit()\n",
    "db.close()\n"
   ]
  },
  {
   "attachments": {},
   "cell_type": "markdown",
   "metadata": {},
   "source": [
    "### READ"
   ]
  },
  {
   "cell_type": "code",
   "execution_count": 10,
   "metadata": {},
   "outputs": [
    {
     "name": "stdout",
     "output_type": "stream",
     "text": [
      "(1, 'Everything Everywhere All at Once', 'A multiverse-spanning adventure')\n",
      "Everything Everywhere All at Once\n",
      "(2, 'All Quiet on the Western Front', 'A World War I drama')\n",
      "All Quiet on the Western Front\n",
      "(3, 'The Whale', 'A man attempts to reunite with his estranged daughter')\n",
      "The Whale\n",
      "(4, 'Top Gun: Maverick', 'Maverick returns to train a new generation of fighter pilots')\n",
      "Top Gun: Maverick\n",
      "(5, 'The Matrix', 'A computer hacker learns from mysterious rebels about the true nature of his reality and his role in the war against its controllers.')\n",
      "The Matrix\n",
      "(6, 'Inception', 'A thief is hired to plant an idea in the mind of a corporate executive.')\n",
      "Inception\n",
      "(7, 'Blade Runner', 'A detective hunts down rogue replicants in a dystopian future.')\n",
      "Blade Runner\n",
      "(8, 'Star Wars', 'A farm boy joins a rebellion to overthrow an evil empire.')\n",
      "Star Wars\n",
      "(9, 'Jurassic Park', 'Scientists create a theme park with cloned dinosaurs, which quickly goes awry.')\n",
      "Jurassic Park\n"
     ]
    }
   ],
   "source": [
    "import mysql.connector\n",
    "\n",
    "# establish connection\n",
    "db = mysql.connector.connect(\n",
    "  host=\"localhost\",\n",
    "  user=\"root\",\n",
    "  password=\"\",\n",
    "  database=\"movies_db\"\n",
    ")\n",
    "\n",
    "cursor = db.cursor()\n",
    "\n",
    "cursor.execute(\"SELECT * FROM movies\")\n",
    "\n",
    "movies = cursor.fetchall()\n",
    "\n",
    "for movie in movies:\n",
    "  print(movie) \t\t# print entire record\n",
    "  print(movie[1])\t# print only title of movie\n",
    "\n",
    "# commit changes and close connection\n",
    "db.commit()\n",
    "db.close()"
   ]
  },
  {
   "cell_type": "code",
   "execution_count": 12,
   "metadata": {},
   "outputs": [
    {
     "name": "stdout",
     "output_type": "stream",
     "text": [
      "Everything Everywhere All at Once\n",
      "All Quiet on the Western Front\n",
      "The Whale\n",
      "Top Gun: Maverick\n",
      "The Matrix\n",
      "Inception\n",
      "Blade Runner\n",
      "Star Wars\n",
      "Jurassic Park\n"
     ]
    }
   ],
   "source": [
    "import mysql.connector\n",
    "\n",
    "# establish connection\n",
    "db = mysql.connector.connect(\n",
    "  host=\"localhost\",\n",
    "  user=\"root\",\n",
    "  password=\"\",\n",
    "  database=\"movies_db\"\n",
    ")\n",
    "\n",
    "cursor = db.cursor()\n",
    "\n",
    "cursor.execute(\"SELECT * FROM movies\")\n",
    "\n",
    "movies = cursor.fetchall()\n",
    "\n",
    "# get column names\n",
    "columns = [desc[0] for desc in cursor.description]\n",
    "\n",
    "for movie in movies:\n",
    "  # access fields by name\n",
    "  print(movie[columns.index('title')])\n",
    "\n",
    "# commit changes and close connection\n",
    "db.commit()\n",
    "db.close()"
   ]
  },
  {
   "cell_type": "code",
   "execution_count": 25,
   "metadata": {},
   "outputs": [
    {
     "name": "stdout",
     "output_type": "stream",
     "text": [
      "Everything Everywhere All at Once  -->  Michelle Yeoh\n",
      "Everything Everywhere All at Once  -->  Stephan James\n",
      "Everything Everywhere All at Once  -->  Jamie Lee Curtis\n"
     ]
    }
   ],
   "source": [
    "import mysql.connector\n",
    "\n",
    "db = mysql.connector.connect(\n",
    "  host=\"localhost\",\n",
    "  user=\"root\",\n",
    "  password=\"\",\n",
    "  database=\"movies_db\"\n",
    ")\n",
    "\n",
    "cursor = db.cursor()\n",
    "\n",
    "query = \"\"\"SELECT movies.title, actors.name FROM movies\n",
    "           JOIN movie_actor ON movies.id = movie_actor.movie_id\n",
    "           JOIN actors ON movie_actor.actor_id = actors.id\n",
    "           WHERE movies.id=1\"\"\"\n",
    "\n",
    "cursor.execute(query)\n",
    "\n",
    "results = cursor.fetchall()\n",
    "\n",
    "for row in results:\n",
    "  print(row[0],\" --> \", row[1])\n",
    "\n",
    "# close connection\n",
    "db.close()\n"
   ]
  },
  {
   "attachments": {},
   "cell_type": "markdown",
   "metadata": {},
   "source": [
    "### UPDATE"
   ]
  },
  {
   "cell_type": "code",
   "execution_count": 14,
   "metadata": {},
   "outputs": [],
   "source": [
    "import mysql.connector\n",
    "\n",
    "# establish connection\n",
    "db = mysql.connector.connect(\n",
    "  host=\"localhost\",\n",
    "  user=\"root\",\n",
    "  password=\"\",\n",
    "  database=\"movies_db\"\n",
    ")\n",
    "\n",
    "cursor = db.cursor()\n",
    "\n",
    "# update the synopsis of a specific movie\n",
    "update_query = \"UPDATE movies SET synopsis = %s WHERE title = %s\"\n",
    "update_data = (\"A computer hacker learns about the true nature of reality.\", \"The Matrix\")\n",
    "cursor.execute(update_query, update_data)\n",
    "\n",
    "# commit changes and close connection\n",
    "db.commit()\n",
    "db.close()\n",
    "\n"
   ]
  },
  {
   "attachments": {},
   "cell_type": "markdown",
   "metadata": {},
   "source": [
    "### DELETE"
   ]
  },
  {
   "cell_type": "code",
   "execution_count": 4,
   "metadata": {},
   "outputs": [
    {
     "name": "stdout",
     "output_type": "stream",
     "text": [
      "Movie was deleted successfully\n"
     ]
    }
   ],
   "source": [
    "import mysql.connector\n",
    "\n",
    "# establish connection\n",
    "db = mysql.connector.connect(\n",
    "  host=\"localhost\",\n",
    "  user=\"root\",\n",
    "  password=\"\",\n",
    "  database=\"movies_db\"\n",
    ")\n",
    "\n",
    "cursor = db.cursor()\n",
    "\n",
    "# delete a specific movie\n",
    "delete_query = \"DELETE FROM movies WHERE title = %s\"\n",
    "delete_data = (\"Dummy Movie\",)\n",
    "cursor.execute(delete_query, delete_data)\n",
    "\n",
    "# commit changes\n",
    "db.commit()\n",
    "\n",
    "# check if movie was deleted\n",
    "select_query = \"SELECT * FROM movies WHERE title = %s\"\n",
    "select_data = (\"Dummy Movie\",)\n",
    "cursor.execute(select_query, select_data)\n",
    "\n",
    "if cursor.rowcount == 0:\n",
    "    print(\"Movie was deleted successfully\")\n",
    "else:\n",
    "    print(\"Movie was not deleted\")\n",
    "\n",
    "# close connection\n",
    "db.close()\n"
   ]
  },
  {
   "attachments": {},
   "cell_type": "markdown",
   "metadata": {},
   "source": [
    "## Scrape into database"
   ]
  },
  {
   "cell_type": "code",
   "execution_count": 11,
   "metadata": {},
   "outputs": [
    {
     "name": "stdout",
     "output_type": "stream",
     "text": [
      "Black Panther: Wakanda Forever inserted!\n",
      "Avatar: The Way of Water inserted!\n",
      "Women Talking inserted!\n"
     ]
    },
    {
     "ename": "ProgrammingError",
     "evalue": "1064 (42000): You have an error in your SQL syntax; check the manual that corresponds to your MariaDB server version for the right syntax to use near 's Pinocchio'' at line 1",
     "output_type": "error",
     "traceback": [
      "\u001b[1;31m---------------------------------------------------------------------------\u001b[0m",
      "\u001b[1;31mMySQLInterfaceError\u001b[0m                       Traceback (most recent call last)",
      "\u001b[1;32mc:\\Users\\elkeb\\AppData\\Local\\Programs\\Python\\Python37\\lib\\site-packages\\mysql\\connector\\connection_cext.py\u001b[0m in \u001b[0;36mcmd_query\u001b[1;34m(self, query, raw, buffered, raw_as_string)\u001b[0m\n\u001b[0;32m    615\u001b[0m                 \u001b[0mraw_as_string\u001b[0m\u001b[1;33m=\u001b[0m\u001b[0mraw_as_string\u001b[0m\u001b[1;33m,\u001b[0m\u001b[1;33m\u001b[0m\u001b[1;33m\u001b[0m\u001b[0m\n\u001b[1;32m--> 616\u001b[1;33m                 \u001b[0mquery_attrs\u001b[0m\u001b[1;33m=\u001b[0m\u001b[0mself\u001b[0m\u001b[1;33m.\u001b[0m\u001b[0m_query_attrs\u001b[0m\u001b[1;33m,\u001b[0m\u001b[1;33m\u001b[0m\u001b[1;33m\u001b[0m\u001b[0m\n\u001b[0m\u001b[0;32m    617\u001b[0m             )\n",
      "\u001b[1;31mMySQLInterfaceError\u001b[0m: You have an error in your SQL syntax; check the manual that corresponds to your MariaDB server version for the right syntax to use near 's Pinocchio'' at line 1",
      "\nThe above exception was the direct cause of the following exception:\n",
      "\u001b[1;31mProgrammingError\u001b[0m                          Traceback (most recent call last)",
      "\u001b[1;32m~\\AppData\\Local\\Temp\\ipykernel_11180\\2474930318.py\u001b[0m in \u001b[0;36m<module>\u001b[1;34m\u001b[0m\n\u001b[0;32m     25\u001b[0m         )\n\u001b[0;32m     26\u001b[0m         \u001b[0mcursor\u001b[0m \u001b[1;33m=\u001b[0m \u001b[0mdb\u001b[0m\u001b[1;33m.\u001b[0m\u001b[0mcursor\u001b[0m\u001b[1;33m(\u001b[0m\u001b[1;33m)\u001b[0m\u001b[1;33m\u001b[0m\u001b[1;33m\u001b[0m\u001b[0m\n\u001b[1;32m---> 27\u001b[1;33m         \u001b[0mcursor\u001b[0m\u001b[1;33m.\u001b[0m\u001b[0mexecute\u001b[0m\u001b[1;33m(\u001b[0m\u001b[1;34m\"SELECT * FROM movies where title like '\"\u001b[0m \u001b[1;33m+\u001b[0m \u001b[0mtitle\u001b[0m \u001b[1;33m+\u001b[0m\u001b[1;34m\"'\"\u001b[0m\u001b[1;33m)\u001b[0m\u001b[1;33m\u001b[0m\u001b[1;33m\u001b[0m\u001b[0m\n\u001b[0m\u001b[0;32m     28\u001b[0m         \u001b[0mmovies\u001b[0m \u001b[1;33m=\u001b[0m \u001b[0mcursor\u001b[0m\u001b[1;33m.\u001b[0m\u001b[0mfetchall\u001b[0m\u001b[1;33m(\u001b[0m\u001b[1;33m)\u001b[0m\u001b[1;33m\u001b[0m\u001b[1;33m\u001b[0m\u001b[0m\n\u001b[0;32m     29\u001b[0m         \u001b[1;32mif\u001b[0m \u001b[0mlen\u001b[0m\u001b[1;33m(\u001b[0m\u001b[0mmovies\u001b[0m\u001b[1;33m)\u001b[0m\u001b[1;33m==\u001b[0m\u001b[1;36m0\u001b[0m\u001b[1;33m:\u001b[0m\u001b[1;33m\u001b[0m\u001b[1;33m\u001b[0m\u001b[0m\n",
      "\u001b[1;32mc:\\Users\\elkeb\\AppData\\Local\\Programs\\Python\\Python37\\lib\\site-packages\\mysql\\connector\\cursor_cext.py\u001b[0m in \u001b[0;36mexecute\u001b[1;34m(self, operation, params, multi)\u001b[0m\n\u001b[0;32m    332\u001b[0m                 \u001b[0mraw\u001b[0m\u001b[1;33m=\u001b[0m\u001b[0mself\u001b[0m\u001b[1;33m.\u001b[0m\u001b[0m_raw\u001b[0m\u001b[1;33m,\u001b[0m\u001b[1;33m\u001b[0m\u001b[1;33m\u001b[0m\u001b[0m\n\u001b[0;32m    333\u001b[0m                 \u001b[0mbuffered\u001b[0m\u001b[1;33m=\u001b[0m\u001b[0mself\u001b[0m\u001b[1;33m.\u001b[0m\u001b[0m_buffered\u001b[0m\u001b[1;33m,\u001b[0m\u001b[1;33m\u001b[0m\u001b[1;33m\u001b[0m\u001b[0m\n\u001b[1;32m--> 334\u001b[1;33m                 \u001b[0mraw_as_string\u001b[0m\u001b[1;33m=\u001b[0m\u001b[0mself\u001b[0m\u001b[1;33m.\u001b[0m\u001b[0m_raw_as_string\u001b[0m\u001b[1;33m,\u001b[0m\u001b[1;33m\u001b[0m\u001b[1;33m\u001b[0m\u001b[0m\n\u001b[0m\u001b[0;32m    335\u001b[0m             )\n\u001b[0;32m    336\u001b[0m         \u001b[1;32mexcept\u001b[0m \u001b[0mMySQLInterfaceError\u001b[0m \u001b[1;32mas\u001b[0m \u001b[0merr\u001b[0m\u001b[1;33m:\u001b[0m\u001b[1;33m\u001b[0m\u001b[1;33m\u001b[0m\u001b[0m\n",
      "\u001b[1;32mc:\\Users\\elkeb\\AppData\\Local\\Programs\\Python\\Python37\\lib\\site-packages\\mysql\\connector\\connection_cext.py\u001b[0m in \u001b[0;36mcmd_query\u001b[1;34m(self, query, raw, buffered, raw_as_string)\u001b[0m\n\u001b[0;32m    619\u001b[0m             raise get_mysql_exception(\n\u001b[0;32m    620\u001b[0m                 \u001b[0merr\u001b[0m\u001b[1;33m.\u001b[0m\u001b[0merrno\u001b[0m\u001b[1;33m,\u001b[0m \u001b[0mmsg\u001b[0m\u001b[1;33m=\u001b[0m\u001b[0merr\u001b[0m\u001b[1;33m.\u001b[0m\u001b[0mmsg\u001b[0m\u001b[1;33m,\u001b[0m \u001b[0msqlstate\u001b[0m\u001b[1;33m=\u001b[0m\u001b[0merr\u001b[0m\u001b[1;33m.\u001b[0m\u001b[0msqlstate\u001b[0m\u001b[1;33m\u001b[0m\u001b[1;33m\u001b[0m\u001b[0m\n\u001b[1;32m--> 621\u001b[1;33m             ) from err\n\u001b[0m\u001b[0;32m    622\u001b[0m         \u001b[1;32mexcept\u001b[0m \u001b[0mAttributeError\u001b[0m \u001b[1;32mas\u001b[0m \u001b[0merr\u001b[0m\u001b[1;33m:\u001b[0m\u001b[1;33m\u001b[0m\u001b[1;33m\u001b[0m\u001b[0m\n\u001b[0;32m    623\u001b[0m             addr = (\n",
      "\u001b[1;31mProgrammingError\u001b[0m: 1064 (42000): You have an error in your SQL syntax; check the manual that corresponds to your MariaDB server version for the right syntax to use near 's Pinocchio'' at line 1"
     ]
    }
   ],
   "source": [
    "from bs4 import BeautifulSoup\n",
    "import requests\n",
    "import mysql.connector\n",
    "\n",
    "url = 'https://en.wikipedia.org/wiki/List_of_Academy_Award-winning_films'\n",
    "r = requests.get(url)\n",
    "soup = BeautifulSoup(r.text) \n",
    "table = soup.find('table',{ \"class\" : \"wikitable sortable\" }) # tabel zoeken\n",
    "count=0\n",
    "\n",
    "for tr in table.find_all('tr'):     # tr --> row o, table\n",
    "    row = tr.find_all('td')         # zoeken we naar kolommen td \n",
    "    if (len(row)==4):               # als er 4 kolommen zijn, zijn we normaal gezien zeker dat het de juiste info is\n",
    "        title = row[0].text.strip().replace(\"'\",\"\") \n",
    "        year = row[1].text.strip()\n",
    "        awards = row[2].text.strip()\n",
    "        nominations = row[3].text.strip()\n",
    "\n",
    "        # establish connection\n",
    "        db = mysql.connector.connect(\n",
    "            host=\"localhost\",\n",
    "            user=\"root\",\n",
    "            password=\"\",\n",
    "            database=\"movies_db\"\n",
    "        )\n",
    "        cursor = db.cursor()\n",
    "        cursor.execute(\"SELECT * FROM movies where title like '\" + title +\"'\")\n",
    "        movies = cursor.fetchall()\n",
    "        if len(movies)==0:\n",
    "            cursor.execute(\"INSERT INTO movies(title) values('\" + title +\"')\")\n",
    "            \n",
    "            movie_id = cursor.lastrowid\n",
    "            awardshow_id = 1\n",
    "\n",
    "            sql = \"INSERT INTO awards (awardshow_id, year, movie_id, awards, nominations) VALUES (%s, %s, %s, %s, %s)\"\n",
    "            val = (awardshow_id, year, movie_id, awards, nominations)\n",
    "            cursor.execute(sql, val)\n",
    "            db.commit()\n",
    "\n",
    "            print(title,\"inserted!\")\n",
    "        db.close()\n"
   ]
  }
 ],
 "metadata": {
  "interpreter": {
   "hash": "d610dfdcb92a1c5d122566c35ab7da5d6b10ef52ef3a5fcee16ccf28740a5ed0"
  },
  "kernelspec": {
   "display_name": "Python 3.9.13 64-bit (windows store)",
   "language": "python",
   "name": "python3"
  },
  "language_info": {
   "codemirror_mode": {
    "name": "ipython",
    "version": 3
   },
   "file_extension": ".py",
   "mimetype": "text/x-python",
   "name": "python",
   "nbconvert_exporter": "python",
   "pygments_lexer": "ipython3",
   "version": "3.7.4"
  },
  "orig_nbformat": 4
 },
 "nbformat": 4,
 "nbformat_minor": 2
}
