{
 "metadata": {
  "language_info": {
   "codemirror_mode": {
    "name": "ipython",
    "version": 3
   },
   "file_extension": ".py",
   "mimetype": "text/x-python",
   "name": "python",
   "nbconvert_exporter": "python",
   "pygments_lexer": "ipython3",
   "version": "3.9.2-final"
  },
  "orig_nbformat": 2,
  "kernelspec": {
   "name": "python3",
   "display_name": "Python 3.9.2 64-bit",
   "metadata": {
    "interpreter": {
     "hash": "a7ff26f83e05060c3a7d34b0e500d2ccaab5c8f85efbdae62ef213692d698dc2"
    }
   }
  }
 },
 "nbformat": 4,
 "nbformat_minor": 2,
 "cells": [
  {
   "source": [
    "# API\n",
    "Application Programming Interface: interface that allows you to build on the data and functionality of another application. All webservices are API's but now all API's are websercies!\n",
    "\n",
    "## Reading JSON\n",
    "### Read a simple string"
   ],
   "cell_type": "markdown",
   "metadata": {}
  },
  {
   "cell_type": "code",
   "execution_count": null,
   "metadata": {},
   "outputs": [],
   "source": [
    "import json\n",
    "\n",
    "#string JSON example\n",
    "json_data =  '{ \"name\":\"Jason Statham\", \"age\":54, \"city\":\"Chesterfield\"}'\n",
    "y = json.loads(json_data)\n",
    "print(y[\"age\"]) # result is dictionary!\n"
   ]
  },
  {
   "source": [
    "### Use a file-object (load!)"
   ],
   "cell_type": "markdown",
   "metadata": {}
  },
  {
   "cell_type": "code",
   "execution_count": null,
   "metadata": {},
   "outputs": [],
   "source": [
    "import json\n",
    "\n",
    "#read in file\n",
    "json_file = open(\"books.json\")\n",
    "#use load-method\n",
    "json_data = json.load(json_file)\n",
    "json_file.close()\n",
    "\n",
    "print(json_data[\"books\"][0][\"title\"])\n",
    "print(json_data)"
   ]
  },
  {
   "source": [
    "### Read in a file and pass a string (loads)"
   ],
   "cell_type": "markdown",
   "metadata": {}
  },
  {
   "cell_type": "code",
   "execution_count": null,
   "metadata": {},
   "outputs": [],
   "source": [
    "import json\n",
    "\n",
    "#read in file\n",
    "json_file = open(\"books.json\")\n",
    "#use loads-method\n",
    "json_data = json.loads(json_file.read())\n",
    "json_file.close()\n",
    "\n",
    "for book in json_data[\"books\"]:\n",
    "    print(book[\"title\"])"
   ]
  },
  {
   "source": [
    "## Writing JSON\n",
    "\n",
    "### A simple dictionary"
   ],
   "cell_type": "markdown",
   "metadata": {}
  },
  {
   "cell_type": "code",
   "execution_count": null,
   "metadata": {},
   "outputs": [],
   "source": [
    "import json \n",
    "\n",
    "python_data = { \"name\":\"Jason Statham\", \"age\":54, \"city\":\"Chesterfield\"}\n",
    "\n",
    "json_data = json.dumps(python_data)\n",
    "print(python_data)\n",
    "print(json_data)"
   ]
  },
  {
   "cell_type": "code",
   "execution_count": null,
   "metadata": {},
   "outputs": [],
   "source": [
    "import json\n",
    "\n",
    "#creating a dictionary of a list of dictionaries\n",
    "python_data = {}\n",
    "python_data['people'] = []\n",
    "python_data['people'].append({\n",
    "    'name': 'Jason Statham',\n",
    "    'age': '54'\n",
    "})\n",
    "python_data['people'].append({\n",
    "    'name': 'Jason Momoa',\n",
    "    'age': '42'\n",
    "})\n",
    "python_data['people'].append({\n",
    "    'name': 'Jennifer Jason Leigh',\n",
    "    'age': '59'\n",
    "})\n",
    "\n",
    "json_file = open('jason.json', 'w')\n",
    "json_data = json.dump(python_data, json_file)\n",
    "json_file.close()\n"
   ]
  },
  {
   "source": [
    "## Doing the fun stuff!\n",
    "Let's work with som fun API's!\n",
    "\n",
    "Before making requests, install additional package!\n",
    "pip install requests\n",
    "\n",
    "### Kanye.requests https://kanye.rest/"
   ],
   "cell_type": "markdown",
   "metadata": {}
  },
  {
   "cell_type": "code",
   "execution_count": null,
   "metadata": {},
   "outputs": [],
   "source": [
    "import requests\n",
    "import json\n",
    "\n",
    "response = requests.get(\"https://api.kanye.rest/\")\n",
    "print(response.status_code)\n",
    "print(response.headers)\n",
    "print(response.text)\n",
    "\n",
    "json_data = json.loads(response.text)\n",
    "print(json_data[\"quote\"])"
   ]
  },
  {
   "cell_type": "code",
   "execution_count": null,
   "metadata": {},
   "outputs": [],
   "source": [
    "import requests\n",
    "import json\n",
    "\n",
    "try:\n",
    "    r = requests.get(\"https://api.kanyee.rest/\")\n",
    "except Exception as e: \n",
    "    print(e)"
   ]
  },
  {
   "source": [
    "### Dr love https://rapidapi.com/ajith/api/love-calculator"
   ],
   "cell_type": "markdown",
   "metadata": {}
  },
  {
   "cell_type": "code",
   "execution_count": null,
   "metadata": {},
   "outputs": [],
   "source": [
    "import requests\n",
    "import json\n",
    "\n",
    "api_url = \"https://love-calculator.p.rapidapi.com/getPercentage\"\n",
    "api_headers = {\n",
    "\t\"x-rapidapi-key\": \"<your key here>\",\n",
    "\t\"x-rapidapi-host\": \"love-calculator.p.rapidapi.com\"}\n",
    "\n",
    "fname = input(\"Enter first name\")\n",
    "sname = input(\"Anter second name\")\n",
    "\n",
    "api_query = {\n",
    "\t\"fname\": fname,\n",
    "\t\"sname\": sname }\n",
    "\n",
    "response = requests.get(api_url, headers = api_headers, params=api_query)\n",
    "print(response.url)\n",
    "print(response.text)\n",
    "json_data = json.loads(response.text)\n",
    "print(json_data[\"result\"])\n",
    "\n",
    "\n"
   ]
  },
  {
   "cell_type": "code",
   "execution_count": null,
   "metadata": {},
   "outputs": [],
   "source": [
    "import requests\n",
    "import json\n",
    "\n",
    "api_url = \"https://love-calculator.p.rapidapi.com/getPercentage\"\n",
    "api_headers = {\n",
    "\t\"x-rapidapi-key\": \"<your key here>\",\n",
    "\t\"x-rapidapi-host\": \"love-calculator.p.rapidapi.com\"}\n",
    "\n",
    "fname = input(\"Enter first name\")\n",
    "sname = input(\"Anter second name\")\n",
    "\n",
    "api_query = {\n",
    "\t\"fname\": fname,\n",
    "\t\"sname\": sname }\n",
    "\n",
    "response = requests.get(api_url, headers = api_headers, params=api_query)\n",
    "json_data = json.loads(response.text)\n",
    "result = json_data[\"result\"]\n",
    "\n",
    "\n",
    "api_url = \"https://ajith-fancy-text-v1.p.rapidapi.com/text\"\n",
    "api_headers = {\n",
    "    \"x-rapidapi-key\": \"<your key here>\",\n",
    "\t\"x-rapidapi-host\": \"ajith-Fancy-text-v1.p.rapidapi.com\"\n",
    "}\n",
    "\n",
    "api_query = {\n",
    "\t\"text\": result}\n",
    "\n",
    "response = requests.get(api_url, headers = api_headers, params=api_query)\n",
    "json_data = json.loads(response.text)\n",
    "print(json_data[\"fancytext\"])\n"
   ]
  },
  {
   "cell_type": "code",
   "execution_count": null,
   "metadata": {},
   "outputs": [],
   "source": []
  }
 ]
}