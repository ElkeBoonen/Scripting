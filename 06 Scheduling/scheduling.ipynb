{
 "metadata": {
  "language_info": {
   "codemirror_mode": {
    "name": "ipython",
    "version": 3
   },
   "file_extension": ".py",
   "mimetype": "text/x-python",
   "name": "python",
   "nbconvert_exporter": "python",
   "pygments_lexer": "ipython3",
   "version": "3.9.1"
  },
  "orig_nbformat": 2,
  "kernelspec": {
   "name": "python391jvsc74a57bd04716b34df6b0e0d61b0a44c71db573090ba3cead5b261234431b6b3bdee224c4",
   "display_name": "Python 3.9.1 64-bit"
  },
  "metadata": {
   "interpreter": {
    "hash": "4716b34df6b0e0d61b0a44c71db573090ba3cead5b261234431b6b3bdee224c4"
   }
  }
 },
 "nbformat": 4,
 "nbformat_minor": 2,
 "cells": [
  {
   "source": [
    "# Scheduling\n",
    "\n",
    "Running programs while sitting at your computer is ok, but it's very useful to let them run without supervision!\n",
    "- Schedule programs to run code at some specified time\n",
    "- Scrape website every hour...\n",
    "- Do a CPU-intensive task while you sleep\n",
    "- ...\n",
    "\n",
    "## The time Module\n",
    "https://www.epochconverter.com/\n"
   ],
   "cell_type": "markdown",
   "metadata": {}
  },
  {
   "cell_type": "code",
   "execution_count": 10,
   "metadata": {},
   "outputs": [
    {
     "output_type": "stream",
     "name": "stdout",
     "text": [
      "1618230694.9530432\nMon Apr 12 14:31:34 2021\nMon Apr 12 14:31:34 2021\n"
     ]
    }
   ],
   "source": [
    "import time\n",
    "print(time.time())\n",
    "print(time.ctime())\n",
    "print(time.ctime(time.time()))"
   ]
  },
  {
   "source": [
    "### Check execution time\n",
    "Seconds needed to check time with https://worldtimeapi.org "
   ],
   "cell_type": "markdown",
   "metadata": {}
  },
  {
   "cell_type": "code",
   "execution_count": 12,
   "metadata": {},
   "outputs": [
    {
     "output_type": "stream",
     "name": "stdout",
     "text": [
      "Tokyo time is 2021-04-11T23:22:42.382667+09:00\nTook 0.22145795822143555 seconds to get.\n"
     ]
    }
   ],
   "source": [
    "import requests\n",
    "import json\n",
    "import time\n",
    "\n",
    "# start time\n",
    "startTime = time.time()\n",
    "\n",
    "response = requests.get(\"https://worldtimeapi.org/api/timezone/Asia/Tokyo\")\n",
    "json_data = json.loads(response.text)\n",
    "\n",
    "#end time\n",
    "endTime = time.time()\n",
    "\n",
    "print('Tokyo time is',json_data[\"datetime\"])\n",
    "print('Took %s seconds to get.' % (endTime - startTime))"
   ]
  },
  {
   "source": [
    "### I need some sleep ;)"
   ],
   "cell_type": "markdown",
   "metadata": {}
  },
  {
   "cell_type": "code",
   "execution_count": 15,
   "metadata": {},
   "outputs": [
    {
     "output_type": "stream",
     "name": "stdout",
     "text": [
      "Tick\n",
      "Tock\n",
      "Tick\n",
      "Tock\n",
      "Tick\n",
      "Tock\n"
     ]
    }
   ],
   "source": [
    "import time\n",
    "for i in range(3):\n",
    "    print('Tick')\n",
    "    time.sleep(1)\n",
    "    print('Tock')\n",
    "    time.sleep(1)"
   ]
  },
  {
   "source": [
    "## The DateTime Module"
   ],
   "cell_type": "markdown",
   "metadata": {}
  },
  {
   "cell_type": "code",
   "execution_count": 34,
   "metadata": {},
   "outputs": [
    {
     "output_type": "stream",
     "name": "stdout",
     "text": [
      "2021-04-11 17:04:13.587745\n2019 10 21 16 29 0\n1970-01-01 03:46:40\n2021-04-11 17:04:13.589720\n2021-04-11 17:04:14\n"
     ]
    }
   ],
   "source": [
    "import datetime\n",
    "print(datetime.datetime.now())\n",
    "dt = datetime.datetime(2019, 10, 21, 16, 29, 0)\n",
    "print(dt.year, dt.month, dt.day,dt.hour, dt.minute, dt.second)\n",
    "print(datetime.datetime.fromtimestamp(10000))\n",
    "print(datetime.datetime.fromtimestamp(time.time()))\n",
    "print(datetime.datetime.fromtimestamp(round(time.time(),0)))\n",
    "\n"
   ]
  },
  {
   "source": [
    "### Working with dates & converting to strings "
   ],
   "cell_type": "markdown",
   "metadata": {}
  },
  {
   "cell_type": "code",
   "execution_count": 33,
   "metadata": {},
   "outputs": [
    {
     "output_type": "stream",
     "name": "stdout",
     "text": [
      "2021-04-11 17:01:11.925362\n2024-01-06 17:01:11.925362\n1994-01-13 17:01:11.925362\n1994/01/13 17:01:11\n"
     ]
    }
   ],
   "source": [
    "dt = datetime.datetime.now()\n",
    "print(dt)\n",
    "dt += datetime.timedelta(days=1000)\n",
    "print(dt)\n",
    "\n",
    "aboutThirtyYears = datetime.timedelta(days=365 * 30)\n",
    "dt -= aboutThirtyYears\n",
    "print(dt)\n",
    "\n",
    "print(dt.strftime('%Y/%m/%d %H:%M:%S'))"
   ]
  },
  {
   "source": [
    "## Multithreading\n",
    "See file multi.py\n",
    "## Launching programs"
   ],
   "cell_type": "markdown",
   "metadata": {}
  },
  {
   "cell_type": "code",
   "execution_count": 6,
   "metadata": {},
   "outputs": [
    {
     "output_type": "stream",
     "name": "stdout",
     "text": [
      "None\n",
      "0\n"
     ]
    },
    {
     "output_type": "execute_result",
     "data": {
      "text/plain": [
       "<Popen: returncode: None args: ['C:\\\\Windows\\\\notepad.exe', 'C:\\\\Users\\\\elke...>"
      ]
     },
     "metadata": {},
     "execution_count": 6
    }
   ],
   "source": [
    "import subprocess\n",
    "subprocess.Popen(r\"C:\\Windows\\System32\\calc.exe\")\n",
    "paint = subprocess.Popen(\"c:\\\\Windows\\\\System32\\\\mspaint.exe\")\n",
    "print(paint.poll())\n",
    "paint.wait()\n",
    "print(paint.poll())"
   ]
  },
  {
   "source": [
    "### Running Python programs\n",
    "see files popen.py and test.py\n",
    "\n",
    "### Opening default applications"
   ],
   "cell_type": "markdown",
   "metadata": {}
  },
  {
   "cell_type": "code",
   "execution_count": 1,
   "metadata": {},
   "outputs": [
    {
     "output_type": "execute_result",
     "data": {
      "text/plain": [
       "<Popen: returncode: None args: ['start', 'alarm.wav']>"
      ]
     },
     "metadata": {},
     "execution_count": 1
    }
   ],
   "source": [
    "import subprocess\n",
    "\n",
    "textfile = open('hello.txt', 'w')\n",
    "textfile.write('Hello, world!')\n",
    "textfile.close()\n",
    "\n",
    "subprocess.Popen(['start', 'hello.txt'], shell=True)\n",
    "\n",
    "subprocess.Popen(['start', 'alarm.wav'], shell=True)"
   ]
  },
  {
   "source": [
    "### Opening webbrowser"
   ],
   "cell_type": "markdown",
   "metadata": {}
  },
  {
   "cell_type": "code",
   "execution_count": 9,
   "metadata": {},
   "outputs": [
    {
     "output_type": "execute_result",
     "data": {
      "text/plain": [
       "True"
      ]
     },
     "metadata": {},
     "execution_count": 9
    }
   ],
   "source": [
    "import subprocess\n",
    "subprocess.Popen(['start', 'https://google.com'], shell=True)\n",
    "\n",
    "import webbrowser\n",
    "webbrowser.open(\"https://google.com\") "
   ]
  },
  {
   "source": [
    "## Practice makes perfect!\n",
    "- Create a stopwatch: track the amount of time elapsed between presses of the ENTER key, with each key press starting a new \"lap\" on the timer. Print the lap number, total time, and lap time.\n",
    "- Create a simple timesheet app that records when you type a person’s name and uses the current time to clock them in or out.\n",
    "- Download all of the XKCD comic strips from the XKCD website, do it in a multithreaded way, so not just one comic at the time \n",
    "- Write a countdown program that plays an alarm at the end of the countdown. (countdown from wathever the user enters)"
   ],
   "cell_type": "markdown",
   "metadata": {}
  }
 ]
}