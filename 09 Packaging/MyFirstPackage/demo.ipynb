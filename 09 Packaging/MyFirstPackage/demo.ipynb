{
 "metadata": {
  "language_info": {
   "codemirror_mode": {
    "name": "ipython",
    "version": 3
   },
   "file_extension": ".py",
   "mimetype": "text/x-python",
   "name": "python",
   "nbconvert_exporter": "python",
   "pygments_lexer": "ipython3",
   "version": "3.9.5"
  },
  "orig_nbformat": 2,
  "kernelspec": {
   "name": "python395jvsc74a57bd01fc42889d158548921884918981014d85e46f418388340c96b08f7675e7e0489",
   "display_name": "Python 3.9.5 64-bit (windows store)"
  },
  "metadata": {
   "interpreter": {
    "hash": "1fc42889d158548921884918981014d85e46f418388340c96b08f7675e7e0489"
   }
  }
 },
 "nbformat": 4,
 "nbformat_minor": 2,
 "cells": [
  {
   "source": [
    "# Packaging\n",
    "\n",
    "Create and use a package!"
   ],
   "cell_type": "markdown",
   "metadata": {}
  },
  {
   "source": [
    "## Use folder structure to just import functionality!\n",
    "\n",
    "This is the 'way to go' on your take-home exam!"
   ],
   "cell_type": "markdown",
   "metadata": {}
  },
  {
   "cell_type": "code",
   "execution_count": null,
   "metadata": {},
   "outputs": [],
   "source": [
    "from mypackage import module1, module2\n",
    "\n",
    "module1.helloworld()\n",
    "module2.average(5,9)"
   ]
  },
  {
   "source": [
    "## Add packages to build your package ;)"
   ],
   "cell_type": "markdown",
   "metadata": {}
  },
  {
   "cell_type": "code",
   "execution_count": 1,
   "metadata": {},
   "outputs": [
    {
     "output_type": "stream",
     "name": "stdout",
     "text": [
      "Requirement already satisfied: wheel in c:\\users\\elkeb\\appdata\\local\\packages\\pythonsoftwarefoundation.python.3.9_qbz5n2kfra8p0\\localcache\\local-packages\\python39\\site-packages (0.36.2)\n",
      "Requirement already satisfied: twine in c:\\users\\elkeb\\appdata\\local\\packages\\pythonsoftwarefoundation.python.3.9_qbz5n2kfra8p0\\localcache\\local-packages\\python39\\site-packages (3.4.1)\n",
      "Requirement already satisfied: readme-renderer>=21.0 in c:\\users\\elkeb\\appdata\\local\\packages\\pythonsoftwarefoundation.python.3.9_qbz5n2kfra8p0\\localcache\\local-packages\\python39\\site-packages (from twine) (29.0)\n",
      "Requirement already satisfied: requests>=2.20 in c:\\users\\elkeb\\appdata\\local\\packages\\pythonsoftwarefoundation.python.3.9_qbz5n2kfra8p0\\localcache\\local-packages\\python39\\site-packages (from twine) (2.25.1)\n",
      "Requirement already satisfied: importlib-metadata>=3.6 in c:\\users\\elkeb\\appdata\\local\\packages\\pythonsoftwarefoundation.python.3.9_qbz5n2kfra8p0\\localcache\\local-packages\\python39\\site-packages (from twine) (4.0.1)\n",
      "Requirement already satisfied: colorama>=0.4.3 in c:\\users\\elkeb\\appdata\\local\\packages\\pythonsoftwarefoundation.python.3.9_qbz5n2kfra8p0\\localcache\\local-packages\\python39\\site-packages (from twine) (0.4.4)\n",
      "Requirement already satisfied: tqdm>=4.14 in c:\\users\\elkeb\\appdata\\local\\packages\\pythonsoftwarefoundation.python.3.9_qbz5n2kfra8p0\\localcache\\local-packages\\python39\\site-packages (from twine) (4.59.0)\n",
      "Requirement already satisfied: requests-toolbelt!=0.9.0,>=0.8.0 in c:\\users\\elkeb\\appdata\\local\\packages\\pythonsoftwarefoundation.python.3.9_qbz5n2kfra8p0\\localcache\\local-packages\\python39\\site-packages (from twine) (0.9.1)\n",
      "Requirement already satisfied: pkginfo>=1.4.2 in c:\\users\\elkeb\\appdata\\local\\packages\\pythonsoftwarefoundation.python.3.9_qbz5n2kfra8p0\\localcache\\local-packages\\python39\\site-packages (from twine) (1.7.0)\n",
      "Requirement already satisfied: keyring>=15.1 in c:\\users\\elkeb\\appdata\\local\\packages\\pythonsoftwarefoundation.python.3.9_qbz5n2kfra8p0\\localcache\\local-packages\\python39\\site-packages (from twine) (23.0.1)\n",
      "Requirement already satisfied: rfc3986>=1.4.0 in c:\\users\\elkeb\\appdata\\local\\packages\\pythonsoftwarefoundation.python.3.9_qbz5n2kfra8p0\\localcache\\local-packages\\python39\\site-packages (from twine) (1.5.0)\n",
      "Requirement already satisfied: zipp>=0.5 in c:\\users\\elkeb\\appdata\\local\\packages\\pythonsoftwarefoundation.python.3.9_qbz5n2kfra8p0\\localcache\\local-packages\\python39\\site-packages (from importlib-metadata>=3.6->twine) (3.4.1)\n",
      "Requirement already satisfied: pywin32-ctypes!=0.1.0,!=0.1.1 in c:\\users\\elkeb\\appdata\\local\\packages\\pythonsoftwarefoundation.python.3.9_qbz5n2kfra8p0\\localcache\\local-packages\\python39\\site-packages (from keyring>=15.1->twine) (0.2.0)\n",
      "Requirement already satisfied: bleach>=2.1.0 in c:\\users\\elkeb\\appdata\\local\\packages\\pythonsoftwarefoundation.python.3.9_qbz5n2kfra8p0\\localcache\\local-packages\\python39\\site-packages (from readme-renderer>=21.0->twine) (3.3.0)\n",
      "Requirement already satisfied: six in c:\\users\\elkeb\\appdata\\local\\packages\\pythonsoftwarefoundation.python.3.9_qbz5n2kfra8p0\\localcache\\local-packages\\python39\\site-packages (from readme-renderer>=21.0->twine) (1.15.0)\n",
      "Requirement already satisfied: Pygments>=2.5.1 in c:\\users\\elkeb\\appdata\\local\\packages\\pythonsoftwarefoundation.python.3.9_qbz5n2kfra8p0\\localcache\\local-packages\\python39\\site-packages (from readme-renderer>=21.0->twine) (2.7.4)\n",
      "Requirement already satisfied: docutils>=0.13.1 in c:\\users\\elkeb\\appdata\\local\\packages\\pythonsoftwarefoundation.python.3.9_qbz5n2kfra8p0\\localcache\\local-packages\\python39\\site-packages (from readme-renderer>=21.0->twine) (0.17.1)\n",
      "Requirement already satisfied: packaging in c:\\users\\elkeb\\appdata\\local\\packages\\pythonsoftwarefoundation.python.3.9_qbz5n2kfra8p0\\localcache\\local-packages\\python39\\site-packages (from bleach>=2.1.0->readme-renderer>=21.0->twine) (20.9)\n",
      "Requirement already satisfied: webencodings in c:\\users\\elkeb\\appdata\\local\\packages\\pythonsoftwarefoundation.python.3.9_qbz5n2kfra8p0\\localcache\\local-packages\\python39\\site-packages (from bleach>=2.1.0->readme-renderer>=21.0->twine) (0.5.1)\n",
      "Requirement already satisfied: chardet<5,>=3.0.2 in c:\\users\\elkeb\\appdata\\local\\packages\\pythonsoftwarefoundation.python.3.9_qbz5n2kfra8p0\\localcache\\local-packages\\python39\\site-packages (from requests>=2.20->twine) (4.0.0)\n",
      "Requirement already satisfied: certifi>=2017.4.17 in c:\\users\\elkeb\\appdata\\local\\packages\\pythonsoftwarefoundation.python.3.9_qbz5n2kfra8p0\\localcache\\local-packages\\python39\\site-packages (from requests>=2.20->twine) (2020.12.5)\n",
      "Requirement already satisfied: urllib3<1.27,>=1.21.1 in c:\\users\\elkeb\\appdata\\local\\packages\\pythonsoftwarefoundation.python.3.9_qbz5n2kfra8p0\\localcache\\local-packages\\python39\\site-packages (from requests>=2.20->twine) (1.26.3)\n",
      "Requirement already satisfied: idna<3,>=2.5 in c:\\users\\elkeb\\appdata\\local\\packages\\pythonsoftwarefoundation.python.3.9_qbz5n2kfra8p0\\localcache\\local-packages\\python39\\site-packages (from requests>=2.20->twine) (2.10)\n",
      "Requirement already satisfied: pyparsing>=2.0.2 in c:\\users\\elkeb\\appdata\\local\\packages\\pythonsoftwarefoundation.python.3.9_qbz5n2kfra8p0\\localcache\\local-packages\\python39\\site-packages (from packaging->bleach>=2.1.0->readme-renderer>=21.0->twine) (2.4.7)\n"
     ]
    }
   ],
   "source": [
    "! pip install wheel\n",
    "! pip install twine"
   ]
  },
  {
   "source": [
    "## Build & install your own package\n",
    "\n",
    "Watch out for relative paths... so just navigate to right folder\n",
    "\n",
    "__build command__ python 'setup.py' bdist_wheel\n",
    "\n",
    "__install command__ pip install '\\dist\\file.whl'"
   ],
   "cell_type": "markdown",
   "metadata": {}
  },
  {
   "source": [
    "## Use your own package in a random file!"
   ],
   "cell_type": "markdown",
   "metadata": {}
  },
  {
   "cell_type": "code",
   "execution_count": 21,
   "metadata": {},
   "outputs": [
    {
     "output_type": "stream",
     "name": "stdout",
     "text": [
      "Hello world\nHello Elke\naverage 6.0\nsum 12\npower 78125\n"
     ]
    }
   ],
   "source": [
    "from mypackage import module1, module2\n",
    "\n",
    "module1.helloworld()\n",
    "module1.helloname(\"Elke\")\n",
    "print(\"average\", module2.average(5,7))\n",
    "print(\"sum\", module2.sum(5,7))\n",
    "print(\"power\", module2.power(5,7))\n"
   ]
  },
  {
   "cell_type": "code",
   "execution_count": 26,
   "metadata": {},
   "outputs": [
    {
     "output_type": "stream",
     "name": "stdout",
     "text": [
      "Help on module mypackage.module1 in mypackage:\n\nNAME\n    mypackage.module1\n\nFUNCTIONS\n    helloname(myname)\n        Prints hello name\n        Parameters: \n            myname (string): a name\n        Returns: \n            none\n    \n    helloworld()\n        Prints hello world\n        Parameters: \n            none\n        Returns: \n            none\n\nFILE\n    c:\\users\\elkeb\\onedrive - thomas more\\cursusmateriaal\\scripting yp0565\\git\\scripting\\09 packaging\\myfirstpackage\\mypackage\\module1.py\n\n\nHelp on function sum in module mypackage.module2:\n\nsum(x, y)\n    Calculate sum\n    Parameters: \n        x (int): a number\n        y (int): a number\n    Returns: \n        int: sum of x and y\n\n"
     ]
    }
   ],
   "source": [
    "from mypackage import module1, module2\n",
    "\n",
    "help(module1)\n",
    "help(module2.sum)"
   ]
  },
  {
   "cell_type": "code",
   "execution_count": null,
   "metadata": {},
   "outputs": [],
   "source": []
  }
 ]
}