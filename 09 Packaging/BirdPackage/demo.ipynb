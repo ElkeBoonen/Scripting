{
 "cells": [
  {
   "cell_type": "markdown",
   "metadata": {},
   "source": [
    "# Bird Package"
   ]
  },
  {
   "cell_type": "markdown",
   "metadata": {},
   "source": [
    "## Add packages to build your package ;)"
   ]
  },
  {
   "cell_type": "code",
   "execution_count": 3,
   "metadata": {},
   "outputs": [
    {
     "name": "stdout",
     "output_type": "stream",
     "text": [
      "Collecting wheel\n",
      "  Downloading wheel-0.37.1-py2.py3-none-any.whl (35 kB)\n",
      "Installing collected packages: wheel\n",
      "Successfully installed wheel-0.37.1\n",
      "Collecting twine\n",
      "  Downloading twine-4.0.0-py3-none-any.whl (36 kB)\n",
      "Collecting rich>=12.0.0\n",
      "  Downloading rich-12.4.1-py3-none-any.whl (231 kB)\n",
      "     -------------------------------------- 231.8/231.8 KB 4.7 MB/s eta 0:00:00\n",
      "Collecting keyring>=15.1\n",
      "  Downloading keyring-23.5.0-py3-none-any.whl (33 kB)\n",
      "Requirement already satisfied: urllib3>=1.26.0 in c:\\users\\elkeb\\appdata\\local\\programs\\python\\python310\\lib\\site-packages (from twine) (1.26.9)\n",
      "Requirement already satisfied: requests>=2.20 in c:\\users\\elkeb\\appdata\\local\\programs\\python\\python310\\lib\\site-packages (from twine) (2.27.1)\n",
      "Requirement already satisfied: rfc3986>=1.4.0 in c:\\users\\elkeb\\appdata\\local\\programs\\python\\python310\\lib\\site-packages (from twine) (1.5.0)\n",
      "Collecting readme-renderer>=21.0\n",
      "  Downloading readme_renderer-35.0-py3-none-any.whl (14 kB)\n",
      "Collecting pkginfo>=1.8.1\n",
      "  Downloading pkginfo-1.8.2-py2.py3-none-any.whl (26 kB)\n",
      "Collecting importlib-metadata>=3.6\n",
      "  Downloading importlib_metadata-4.11.3-py3-none-any.whl (18 kB)\n",
      "Collecting requests-toolbelt!=0.9.0,>=0.8.0\n",
      "  Downloading requests_toolbelt-0.9.1-py2.py3-none-any.whl (54 kB)\n",
      "     ---------------------------------------- 54.3/54.3 KB 2.9 MB/s eta 0:00:00\n",
      "Collecting zipp>=0.5\n",
      "  Downloading zipp-3.8.0-py3-none-any.whl (5.4 kB)\n",
      "Collecting pywin32-ctypes!=0.1.0,!=0.1.1\n",
      "  Downloading pywin32_ctypes-0.2.0-py2.py3-none-any.whl (28 kB)\n",
      "Collecting docutils>=0.13.1\n",
      "  Downloading docutils-0.18.1-py2.py3-none-any.whl (570 kB)\n",
      "     -------------------------------------- 570.0/570.0 KB 6.0 MB/s eta 0:00:00\n",
      "Requirement already satisfied: Pygments>=2.5.1 in c:\\users\\elkeb\\appdata\\local\\programs\\python\\python310\\lib\\site-packages (from readme-renderer>=21.0->twine) (2.11.2)\n",
      "Collecting bleach>=2.1.0\n",
      "  Downloading bleach-5.0.0-py3-none-any.whl (160 kB)\n",
      "     -------------------------------------- 160.3/160.3 KB 4.7 MB/s eta 0:00:00\n",
      "Requirement already satisfied: idna<4,>=2.5 in c:\\users\\elkeb\\appdata\\local\\programs\\python\\python310\\lib\\site-packages (from requests>=2.20->twine) (3.3)\n",
      "Requirement already satisfied: certifi>=2017.4.17 in c:\\users\\elkeb\\appdata\\local\\programs\\python\\python310\\lib\\site-packages (from requests>=2.20->twine) (2021.10.8)\n",
      "Requirement already satisfied: charset-normalizer~=2.0.0 in c:\\users\\elkeb\\appdata\\local\\programs\\python\\python310\\lib\\site-packages (from requests>=2.20->twine) (2.0.12)\n",
      "Requirement already satisfied: commonmark<0.10.0,>=0.9.0 in c:\\users\\elkeb\\appdata\\local\\programs\\python\\python310\\lib\\site-packages (from rich>=12.0.0->twine) (0.9.1)\n",
      "Collecting webencodings\n",
      "  Using cached webencodings-0.5.1-py2.py3-none-any.whl (11 kB)\n",
      "Requirement already satisfied: six>=1.9.0 in c:\\users\\elkeb\\appdata\\local\\programs\\python\\python310\\lib\\site-packages (from bleach>=2.1.0->readme-renderer>=21.0->twine) (1.16.0)\n",
      "Installing collected packages: webencodings, pywin32-ctypes, pkginfo, zipp, rich, docutils, bleach, requests-toolbelt, readme-renderer, importlib-metadata, keyring, twine\n",
      "Successfully installed bleach-5.0.0 docutils-0.18.1 importlib-metadata-4.11.3 keyring-23.5.0 pkginfo-1.8.2 pywin32-ctypes-0.2.0 readme-renderer-35.0 requests-toolbelt-0.9.1 rich-12.4.1 twine-4.0.0 webencodings-0.5.1 zipp-3.8.0\n"
     ]
    }
   ],
   "source": [
    "! pip install wheel\n",
    "! pip install twine"
   ]
  },
  {
   "cell_type": "markdown",
   "metadata": {},
   "source": [
    "## Build & install your own package\n",
    "\n",
    "Watch out for relative paths... so just navigate to right folder\n",
    "\n",
    "__build command__ python 'setup.py' bdist_wheel\n",
    "\n",
    "__install command__ pip install '\\dist\\file.whl'\n",
    "\n",
    "or just install your package in development modus: __install command__ pip install . (first navigate folder of package)\n"
   ]
  },
  {
   "cell_type": "code",
   "execution_count": 4,
   "metadata": {},
   "outputs": [
    {
     "name": "stdout",
     "output_type": "stream",
     "text": [
      "Processing c:\\users\\elkeb\\onedrive - thomas more\\cursusmateriaal\\scripting yp0565\\git\\scripting\\09 packaging\\birdpackage\n",
      "  Preparing metadata (setup.py): started\n",
      "  Preparing metadata (setup.py): finished with status 'done'\n",
      "Building wheels for collected packages: BirdPackage\n",
      "  Building wheel for BirdPackage (setup.py): started\n",
      "  Building wheel for BirdPackage (setup.py): finished with status 'done'\n",
      "  Created wheel for BirdPackage: filename=BirdPackage-0.1-py3-none-any.whl size=2592 sha256=f794f1eddb5f20b097d4738b26c3f9ffa9116287bb7b664f9de4f8504bfe36c1\n",
      "  Stored in directory: C:\\Users\\elkeb\\AppData\\Local\\Temp\\pip-ephem-wheel-cache-bzhkza1k\\wheels\\9d\\32\\17\\1cba4d6c5405b18628b88a03a4ebb5d53b9397ee9a4ba2306f\n",
      "Successfully built BirdPackage\n",
      "Installing collected packages: BirdPackage\n",
      "  Attempting uninstall: BirdPackage\n",
      "    Found existing installation: BirdPackage 0.1\n",
      "    Uninstalling BirdPackage-0.1:\n",
      "      Successfully uninstalled BirdPackage-0.1\n",
      "Successfully installed BirdPackage-0.1\n"
     ]
    }
   ],
   "source": [
    "! pip install ."
   ]
  },
  {
   "cell_type": "code",
   "execution_count": 6,
   "metadata": {},
   "outputs": [
    {
     "ename": "ModuleNotFoundError",
     "evalue": "No module named 'BirdPackage'",
     "output_type": "error",
     "traceback": [
      "\u001b[1;31m---------------------------------------------------------------------------\u001b[0m",
      "\u001b[1;31mModuleNotFoundError\u001b[0m                       Traceback (most recent call last)",
      "\u001b[1;32mc:\\Users\\elkeb\\OneDrive - Thomas More\\Cursusmateriaal\\Scripting YP0565\\Git\\Scripting\\09 Packaging\\BirdPackage\\demo.ipynb Cell 6'\u001b[0m in \u001b[0;36m<cell line: 1>\u001b[1;34m()\u001b[0m\n\u001b[1;32m----> <a href='vscode-notebook-cell:/c%3A/Users/elkeb/OneDrive%20-%20Thomas%20More/Cursusmateriaal/Scripting%20YP0565/Git/Scripting/09%20Packaging/BirdPackage/demo.ipynb#ch0000005?line=0'>1</a>\u001b[0m \u001b[39mimport\u001b[39;00m \u001b[39mBirdPackage\u001b[39;00m\n",
      "\u001b[1;31mModuleNotFoundError\u001b[0m: No module named 'BirdPackage'"
     ]
    }
   ],
   "source": [
    "import BirdPackage"
   ]
  },
  {
   "cell_type": "code",
   "execution_count": null,
   "metadata": {},
   "outputs": [],
   "source": []
  }
 ],
 "metadata": {
  "interpreter": {
   "hash": "ecbde28aaa7044811fcf7473a2337b674477ec64eb441a64dd8be45791588f89"
  },
  "kernelspec": {
   "display_name": "Python 3.10.1 64-bit",
   "language": "python",
   "name": "python3"
  },
  "language_info": {
   "codemirror_mode": {
    "name": "ipython",
    "version": 3
   },
   "file_extension": ".py",
   "mimetype": "text/x-python",
   "name": "python",
   "nbconvert_exporter": "python",
   "pygments_lexer": "ipython3",
   "version": "3.10.1"
  },
  "metadata": {
   "interpreter": {
    "hash": "4716b34df6b0e0d61b0a44c71db573090ba3cead5b261234431b6b3bdee224c4"
   }
  },
  "orig_nbformat": 2
 },
 "nbformat": 4,
 "nbformat_minor": 2
}
