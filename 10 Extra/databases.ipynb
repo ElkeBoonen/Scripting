{
 "cells": [
  {
   "cell_type": "markdown",
   "metadata": {},
   "source": [
    "# Working with databases\n",
    "\n",
    "We halen alle films met nominaties & awards uit wikipedia (https://en.wikipedia.org/wiki/List_of_Academy_Award-winning_films) en bewaren ze in een databank\n",
    "\n",
    "Installeer package mysql-connector-python https://dev.mysql.com/doc/connector-python/en/"
   ]
  },
  {
   "cell_type": "code",
   "execution_count": null,
   "metadata": {},
   "outputs": [],
   "source": [
    "! pip install mysql-connector-python"
   ]
  },
  {
   "cell_type": "markdown",
   "metadata": {},
   "source": [
    "## Connectie met databank in Python\n",
    "\n",
    "Gebruik Xampp (of Mamp) om een mysql-database 'oscars' op te zetten met een tabel 'movies'\n",
    "\n",
    "<pre>\n",
    "CREATE TABLE `movies` ( \n",
    "  `id` int(11) NOT NULL, \n",
    "  `title` varchar(100) NOT NULL, \n",
    "  `year` year(4) NOT NULL, \n",
    "  `awards` tinyint(4) NOT NULL, \n",
    "  `nominations` tinyint(4) NOT NULL \n",
    ") \n",
    "</pre>\n",
    "\n",
    "Standaard gebruikersnaam & paswoord van phpmyadmin (Xampp) zijn 'root' en '' "
   ]
  },
  {
   "cell_type": "code",
   "execution_count": 9,
   "metadata": {},
   "outputs": [],
   "source": [
    "import mysql.connector\n",
    "\n",
    "db = mysql.connector.connect(\n",
    "  host=\"localhost\",\n",
    "  user=\"root\",\n",
    "  password=\"\",\n",
    "  database=\"oscars\"\n",
    ")\n",
    "\n",
    "cursor = db.cursor()"
   ]
  },
  {
   "cell_type": "markdown",
   "metadata": {},
   "source": [
    "## Wikipedia scrapen en wegschrijven naar tabel 'movies'"
   ]
  },
  {
   "cell_type": "code",
   "execution_count": null,
   "metadata": {},
   "outputs": [],
   "source": [
    "from bs4 import BeautifulSoup\n",
    "import requests\n",
    "\n",
    "url = 'https://en.wikipedia.org/wiki/List_of_Academy_Award-winning_films'\n",
    "r = requests.get(url)\n",
    "soup = BeautifulSoup(r.text) \n",
    "table = soup.find('table',{ \"class\" : \"wikitable sortable\" }) # tabel zoeken\n",
    "count=0\n",
    "\n",
    "for tr in table.find_all('tr'):     # per elke tr --> row dus in tabel\n",
    "    row = tr.find_all('td')         # zoeken we naar kolommen td \n",
    "    if (len(row)==4):               # als er 4 kolommen zijn, zijn we normaal gezien zeker dat het de juiste info is\n",
    "        title = row[0].text.strip() \n",
    "        year = row[1].text.strip()\n",
    "        awards = row[2].text.strip()\n",
    "        nominations = row[3].text.strip()\n",
    "\n",
    "        # probeer rij toe te voegen aan tabel\n",
    "        try:\n",
    "            sql = f\"INSERT INTO movies (title, year, awards, nominations) VALUES (\\\"{title}\\\",{year},{awards},{nominations})\"\n",
    "            cursor.execute(sql)\n",
    "            db.commit()\n",
    "            count+=1\n",
    "        except: #lukt het niet, negeer het dan gewoon ;)\n",
    "            pass\n",
    "\n",
    "print(count, \"rows added\")\n"
   ]
  },
  {
   "cell_type": "markdown",
   "metadata": {},
   "source": [
    "## Tabel bevragen"
   ]
  },
  {
   "cell_type": "code",
   "execution_count": 18,
   "metadata": {},
   "outputs": [
    {
     "name": "stdout",
     "output_type": "stream",
     "text": [
      "(817, 'Ben-Hur', 1959, 11, 12)\n",
      "(352, 'Titanic', 1997, 11, 14)\n",
      "(270, 'The Lord of the Rings: The Return of the King', 2003, 11, 11)\n",
      "(1256, 'West Side Story', 1961, 10, 11)\n",
      "(938, 'Gigi', 1958, 9, 9)\n"
     ]
    }
   ],
   "source": [
    "# zoek de 5 films met hoogst aantal awards\n",
    "cursor.execute(\"SELECT * FROM movies ORDER BY awards DESC limit 5\")\n",
    "results = cursor.fetchall()\n",
    "\n",
    "for movie in results:\n",
    "  print(movie)"
   ]
  }
 ],
 "metadata": {
  "interpreter": {
   "hash": "d610dfdcb92a1c5d122566c35ab7da5d6b10ef52ef3a5fcee16ccf28740a5ed0"
  },
  "kernelspec": {
   "display_name": "Python 3.9.13 64-bit (windows store)",
   "language": "python",
   "name": "python3"
  },
  "language_info": {
   "codemirror_mode": {
    "name": "ipython",
    "version": 3
   },
   "file_extension": ".py",
   "mimetype": "text/x-python",
   "name": "python",
   "nbconvert_exporter": "python",
   "pygments_lexer": "ipython3",
   "version": "3.9.13"
  },
  "orig_nbformat": 4
 },
 "nbformat": 4,
 "nbformat_minor": 2
}
