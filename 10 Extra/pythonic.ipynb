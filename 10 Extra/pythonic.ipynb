{
 "cells": [
  {
   "cell_type": "markdown",
   "metadata": {},
   "source": [
    "# Pythonic code\n",
    "\n",
    "Pythonic code is een manier van coderen waarbij je de Zen van Python volgt (import this) dat 19 algemene codeerregels bevat (https://en.wikipedia.org/wiki/Zen_of_Python) \n",
    "\n",
    "Interessant:\n",
    "- https://docs.python-guide.org/writing/style/\n",
    "- https://towardsdatascience.com/how-to-write-pythonic-code-208ec1513c49\n",
    "- https://realpython.com/learning-paths/writing-pythonic-code/ "
   ]
  },
  {
   "cell_type": "code",
   "execution_count": 1,
   "metadata": {},
   "outputs": [
    {
     "name": "stdout",
     "output_type": "stream",
     "text": [
      "The Zen of Python, by Tim Peters\n",
      "\n",
      "Beautiful is better than ugly.\n",
      "Explicit is better than implicit.\n",
      "Simple is better than complex.\n",
      "Complex is better than complicated.\n",
      "Flat is better than nested.\n",
      "Sparse is better than dense.\n",
      "Readability counts.\n",
      "Special cases aren't special enough to break the rules.\n",
      "Although practicality beats purity.\n",
      "Errors should never pass silently.\n",
      "Unless explicitly silenced.\n",
      "In the face of ambiguity, refuse the temptation to guess.\n",
      "There should be one-- and preferably only one --obvious way to do it.\n",
      "Although that way may not be obvious at first unless you're Dutch.\n",
      "Now is better than never.\n",
      "Although never is often better than *right* now.\n",
      "If the implementation is hard to explain, it's a bad idea.\n",
      "If the implementation is easy to explain, it may be a good idea.\n",
      "Namespaces are one honking great idea -- let's do more of those!\n"
     ]
    }
   ],
   "source": [
    "import this"
   ]
  },
  {
   "cell_type": "code",
   "execution_count": 2,
   "metadata": {},
   "outputs": [
    {
     "name": "stdout",
     "output_type": "stream",
     "text": [
      "[-3, -4, -5, -2, -3, -4, -1, -2, -3]\n",
      "[-3, -4, -5, -2, -3, -4, -1, -2, -3]\n"
     ]
    }
   ],
   "source": [
    "# neem twee lijsten van getallen en trek elk element van de ene lijst af van elk element van de andere lijst\n",
    "a = [1, 2, 3]\n",
    "b = [4, 5, 6]\n",
    "\n",
    "# [-3, -4, -5, -2, -3, -4, -1, -2, -3]\n",
    "# --> [1-4, 1-5, 1-6, 2-4, 2-5, 2-6, 3-4, 3-5, 3-6]\n",
    "\n",
    "# algoritmische manier\n",
    "\n",
    "result = []\n",
    "for x in a:\n",
    "    for y in b:\n",
    "        result.append(x - y)\n",
    "print(result)\n",
    "\n",
    "# pythonic manier\n",
    "a = [1, 2, 3]\n",
    "b = [4, 5, 6]\n",
    "result = [x - y for x in a for y in b]\n",
    "print(result)\n"
   ]
  }
 ],
 "metadata": {
  "interpreter": {
   "hash": "d610dfdcb92a1c5d122566c35ab7da5d6b10ef52ef3a5fcee16ccf28740a5ed0"
  },
  "kernelspec": {
   "display_name": "Python 3.9.13 64-bit (windows store)",
   "language": "python",
   "name": "python3"
  },
  "language_info": {
   "codemirror_mode": {
    "name": "ipython",
    "version": 3
   },
   "file_extension": ".py",
   "mimetype": "text/x-python",
   "name": "python",
   "nbconvert_exporter": "python",
   "pygments_lexer": "ipython3",
   "version": "3.9.13"
  },
  "orig_nbformat": 4
 },
 "nbformat": 4,
 "nbformat_minor": 2
}
