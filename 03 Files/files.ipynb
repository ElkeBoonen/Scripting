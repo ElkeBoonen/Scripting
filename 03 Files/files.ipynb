{
 "metadata": {
  "language_info": {
   "codemirror_mode": {
    "name": "ipython",
    "version": 3
   },
   "file_extension": ".py",
   "mimetype": "text/x-python",
   "name": "python",
   "nbconvert_exporter": "python",
   "pygments_lexer": "ipython3",
   "version": "3.9.1-final"
  },
  "orig_nbformat": 2,
  "kernelspec": {
   "name": "python38232bite686985caf77426a88103896520609eb",
   "display_name": "Python 3.8.2 32-bit",
   "language": "python"
  }
 },
 "nbformat": 4,
 "nbformat_minor": 2,
 "cells": [
  {
   "source": [
    "# Files (& folders)\n",
    "\n",
    "Organizing files in folders, reading from & writing to files!\n",
    "## The path is the goal\n"
   ],
   "cell_type": "markdown",
   "metadata": {}
  },
  {
   "cell_type": "code",
   "execution_count": 10,
   "metadata": {},
   "outputs": [
    {
     "output_type": "stream",
     "name": "stdout",
     "text": [
      "c:\\Users\\elkeb\\OneDrive - Thomas More\\Cursusmateriaal\\Scripting YP0565\\Git\\Scripting\\03 Files \n c:\\Users\\elkeb\\OneDrive - Thomas More\\Cursusmateriaal\\Scripting YP0565\\Git\\Scripting\\03 Files\n<class 'str'>\n<class 'pathlib.WindowsPath'>\nC:\\Users\\elkeb\nFilename: calc.exe\nName: calc\nExtension: .exe\nParent directory: C:\\Windows\\System32\nIs file? True\nIs dir? False\nExists? True\n"
     ]
    }
   ],
   "source": [
    "from pathlib import Path\n",
    "import os\n",
    "\n",
    "print(os.getcwd(), \"\\n\", Path.cwd())\n",
    "\n",
    "print(type(os.getcwd()))\n",
    "print(type(Path.cwd()))\n",
    "\n",
    "print(Path.home())\n",
    "\n",
    "calculator = Path(\"C:\\Windows\\System32\\calc.exe\")\n",
    "\n",
    "print(\"Filename:\", calculator.name)\n",
    "print(\"Name:\", calculator.stem)\n",
    "print(\"Extension:\", calculator.suffix)\n",
    "print(\"Parent directory:\", calculator.parent)\n",
    "print(\"Is file?\", calculator.is_file())\n",
    "print(\"Is dir?\", calculator.is_dir())\n",
    "print(\"Exists?\", calculator.exists())"
   ]
  },
  {
   "source": [
    "## Slashes\n",
    "/ --> linux/macOS<br>\n",
    "\\ --> windows"
   ],
   "cell_type": "markdown",
   "metadata": {}
  },
  {
   "cell_type": "code",
   "execution_count": 11,
   "metadata": {},
   "outputs": [
    {
     "output_type": "stream",
     "name": "stdout",
     "text": [
      "C:\\Users\\elkeb\\test\nC:\\Users\\elkeb/test\nC:\\Users\\elkeb\\test\n"
     ]
    }
   ],
   "source": [
    "from pathlib import Path\n",
    "\n",
    "print(str(Path.home()) + \"\\\\\" + \"test\") #windows\n",
    "print(str(Path.home()) + \"/\" + \"test\")  #linux/macOs\n",
    "print(Path.home() / \"test\")"
   ]
  },
  {
   "source": [
    "## Walking through the tree\n"
   ],
   "cell_type": "markdown",
   "metadata": {}
  },
  {
   "cell_type": "code",
   "execution_count": 2,
   "metadata": {
    "tags": []
   },
   "outputs": [
    {
     "output_type": "stream",
     "name": "stdout",
     "text": [
      "C:\\Users\\elkeb\nThe current folder is c:\\Users\\elkeb\\OneDrive - Thomas More\\Cursusmateriaal\\Scripting YP0565\\Git\\Scripting\\03 Files\nSUBFOLDER OF c:\\Users\\elkeb\\OneDrive - Thomas More\\Cursusmateriaal\\Scripting YP0565\\Git\\Scripting\\03 Files: __pycache__\nFILE INSIDE c:\\Users\\elkeb\\OneDrive - Thomas More\\Cursusmateriaal\\Scripting YP0565\\Git\\Scripting\\03 Files: bacon.txt\nFILE INSIDE c:\\Users\\elkeb\\OneDrive - Thomas More\\Cursusmateriaal\\Scripting YP0565\\Git\\Scripting\\03 Files: files.ipynb\nFILE INSIDE c:\\Users\\elkeb\\OneDrive - Thomas More\\Cursusmateriaal\\Scripting YP0565\\Git\\Scripting\\03 Files: files.py\nFILE INSIDE c:\\Users\\elkeb\\OneDrive - Thomas More\\Cursusmateriaal\\Scripting YP0565\\Git\\Scripting\\03 Files: sample.zip\n----------\nThe current folder is c:\\Users\\elkeb\\OneDrive - Thomas More\\Cursusmateriaal\\Scripting YP0565\\Git\\Scripting\\03 Files\\__pycache__\nFILE INSIDE c:\\Users\\elkeb\\OneDrive - Thomas More\\Cursusmateriaal\\Scripting YP0565\\Git\\Scripting\\03 Files\\__pycache__: files.cpython-39.pyc\n----------\n"
     ]
    }
   ],
   "source": [
    "import os\n",
    "from pathlib import Path\n",
    "\n",
    "path_ = Path.cwd()\n",
    "\n",
    "os.chdir(Path.home())\n",
    "print(Path.cwd())\n",
    "\n",
    "for folderName, subfolders, filenames in os.walk(path_.parent()):\n",
    "    print('The current folder is ' + folderName)\n",
    "\n",
    "    for subfolder in subfolders:\n",
    "        print('SUBFOLDER OF ' + folderName + ': ' + subfolder)\n",
    "    for filename in filenames:\n",
    "        print('FILE INSIDE ' + folderName + ': '+ filename)\n",
    "    print(\"----------\")"
   ]
  },
  {
   "source": [
    "## Find specific files\n"
   ],
   "cell_type": "markdown",
   "metadata": {}
  },
  {
   "cell_type": "code",
   "execution_count": 50,
   "metadata": {},
   "outputs": [
    {
     "output_type": "stream",
     "name": "stdout",
     "text": [
      "CWin\nlist\nprint\ntest\n.AndroidStudio3\n.p2\n1000\n3D Objects\naudio\nntuser.dat\nntuser.dat\nNTUSER.DAT{071e5264-bc6f-11ea-bc00-e06995365fe5}.TxR.0\nNTUSER.DAT{071e5264-bc6f-11ea-bc00-e06995365fe5}.TxR.1\nNTUSER.DAT{071e5264-bc6f-11ea-bc00-e06995365fe5}.TxR.2\nNTUSER.DAT{071e5264-bc6f-11ea-bc00-e06995365fe5}.TxR\nNTUSER.DAT{071e5265-bc6f-11ea-bc00-e06995365fe5}.TM\nNTUSER.DAT{071e5265-bc6f-11ea-bc00-e06995365fe5}.TMContainer00000000000000000001\nNTUSER.DAT{071e5265-bc6f-11ea-bc00-e06995365fe5}.TMContainer00000000000000000002\n"
     ]
    }
   ],
   "source": [
    "p = Path.home()\n",
    "for file in p.glob(\"*.txt\"):\n",
    "    print(file.stem)\n",
    "\n",
    "p = Path.home()\n",
    "for file in p.glob(\"*[0-9]*\"):\n",
    "    print(file.stem)"
   ]
  },
  {
   "source": [
    "## Reading & writing from/to files"
   ],
   "cell_type": "markdown",
   "metadata": {}
  },
  {
   "cell_type": "code",
   "execution_count": 71,
   "metadata": {
    "tags": []
   },
   "outputs": [
    {
     "output_type": "stream",
     "name": "stdout",
     "text": [
      "bacon.txt\nfiles.ipynb\nfiles.py\n__pycache__\nHello, world!\nBacon is not a vegetable.\nHello, wor\n['Hello, world!\\n', 'Bacon is not a vegetable.']\n"
     ]
    }
   ],
   "source": [
    "file_ = open('bacon.txt', 'w')\n",
    "file_.write('Hello, world!\\n')\n",
    "file_.close()\n",
    "\n",
    "file_ = open('bacon.txt', 'a')\n",
    "file_.write('Bacon is not a vegetable.')\n",
    "file_.close()\n",
    "\n",
    "for f in os.listdir():\n",
    "    print(f)\n",
    "\n",
    "file_ = open('bacon.txt', 'r')\n",
    "print(file_.read())\n",
    "file_.close()\n",
    "\n",
    "file_ = open('bacon.txt', 'r')\n",
    "print(file_.read(10))\n",
    "file_.close()\n",
    "\n",
    "file_ = open('bacon.txt', 'r')\n",
    "print(file_.readlines())\n",
    "file_.close()\n"
   ]
  },
  {
   "source": [
    "## Organizing files in folders\n",
    "Copy, move, delete files & folders!"
   ],
   "cell_type": "markdown",
   "metadata": {}
  },
  {
   "cell_type": "code",
   "execution_count": 7,
   "metadata": {},
   "outputs": [
    {
     "output_type": "execute_result",
     "data": {
      "text/plain": [
       "'test/bacon_new.txt'"
      ]
     },
     "metadata": {},
     "execution_count": 7
    }
   ],
   "source": [
    "from pathlib import Path\n",
    "import shutil, os\n",
    "\n",
    "os.mkdir(\"test\")\n",
    "\n",
    "shutil.copy('bacon.txt', \"test\")\n",
    "shutil.move(\"test/bacon.txt\", \"test/bacon_new.txt\")\n"
   ]
  },
  {
   "cell_type": "code",
   "execution_count": 13,
   "metadata": {},
   "outputs": [],
   "source": [
    "shutil.rmtree(\"test\")"
   ]
  },
  {
   "source": [
    "## Safe delete!\n",
    "Use the send2trash module because rmtree is irreversible!"
   ],
   "cell_type": "markdown",
   "metadata": {}
  },
  {
   "source": [
    "import send2trash\n",
    "file_ = open('eggs.txt', 'w') \n",
    "file_.write('Eggs are yummy')\n",
    "file_.close()\n",
    "send2trash.send2trash('eggs.txt')"
   ],
   "cell_type": "code",
   "metadata": {},
   "execution_count": 20,
   "outputs": []
  },
  {
   "source": [
    "## Compressing files\n",
    "\n",
    "Use the zipfile module to extract and compress files!\n"
   ],
   "cell_type": "markdown",
   "metadata": {}
  },
  {
   "cell_type": "code",
   "execution_count": 23,
   "metadata": {},
   "outputs": [],
   "source": [
    "import zipfile, os\n",
    "from pathlib import Path\n",
    "\n",
    "newZip = zipfile.ZipFile('new.zip', 'w')\n",
    "newZip.write('bacon.txt')\n",
    "newZip.close()\n",
    "\n",
    "zipfile_ = zipfile.ZipFile( Path(\"sample.zip\"))\n",
    "zipfile_.extractall()\n",
    "zipfile_.close()"
   ]
  }
 ]
}