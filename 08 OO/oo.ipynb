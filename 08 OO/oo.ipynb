{
 "metadata": {
  "language_info": {
   "codemirror_mode": {
    "name": "ipython",
    "version": 3
   },
   "file_extension": ".py",
   "mimetype": "text/x-python",
   "name": "python",
   "nbconvert_exporter": "python",
   "pygments_lexer": "ipython3",
   "version": "3.9.1"
  },
  "orig_nbformat": 2,
  "kernelspec": {
   "name": "python391jvsc74a57bd04716b34df6b0e0d61b0a44c71db573090ba3cead5b261234431b6b3bdee224c4",
   "display_name": "Python 3.9.1 64-bit"
  },
  "metadata": {
   "interpreter": {
    "hash": "4716b34df6b0e0d61b0a44c71db573090ba3cead5b261234431b6b3bdee224c4"
   }
  }
 },
 "nbformat": 4,
 "nbformat_minor": 2,
 "cells": [
  {
   "source": [
    "# Object-oriented programming\n",
    "\n",
    "Python is a multi-paradigm programming language, so it supports also object-oriented programming! OOP is a programming approach where we create objects so we can reuse code! (DRY = Don't Repeat Yourself)\n",
    "\n",
    "\n",
    "## Installing all packages needed"
   ],
   "cell_type": "markdown",
   "metadata": {}
  },
  {
   "cell_type": "code",
   "execution_count": 17,
   "metadata": {},
   "outputs": [
    {
     "output_type": "stream",
     "name": "stdout",
     "text": [
      "Requirement already satisfied: pip in c:\\users\\elkeb\\appdata\\local\\programs\\python\\python39\\lib\\site-packages (21.1.1)\n",
      "Requirement already satisfied: playsound in c:\\users\\elkeb\\appdata\\local\\programs\\python\\python39\\lib\\site-packages (1.2.2)\n"
     ]
    }
   ],
   "source": [
    "import sys\n",
    "!{sys.executable} -m pip install --upgrade pip\n",
    "!{sys.executable} -m pip install playsound"
   ]
  },
  {
   "source": [
    "## Creating a class & an object\n",
    "Object is created with default constructor."
   ],
   "cell_type": "markdown",
   "metadata": {}
  },
  {
   "cell_type": "code",
   "execution_count": 1,
   "metadata": {},
   "outputs": [
    {
     "output_type": "stream",
     "name": "stdout",
     "text": [
      "<__main__.Parrot object at 0x0000017EFCBB98B0>\n"
     ]
    }
   ],
   "source": [
    "class Parrot:\n",
    "    pass \n",
    "\n",
    "#pass is a null statement. The interpreter does not ignore a pass statement, but nothing happens and the statement results into no operation. \n",
    "\n",
    "parrot = Parrot()\n",
    "print(parrot)"
   ]
  },
  {
   "source": [
    "## Fill properties with constructor\n",
    "\n",
    "Properties are created on the fly with a parameterized constructor."
   ],
   "cell_type": "markdown",
   "metadata": {}
  },
  {
   "cell_type": "code",
   "execution_count": 7,
   "metadata": {},
   "outputs": [
    {
     "output_type": "stream",
     "name": "stdout",
     "text": [
      "Blu is a blue bird of 15 years old!\nJewel is a blue bird of 10 years old!\n"
     ]
    }
   ],
   "source": [
    "class Parrot:\n",
    "    # attribute (additional info of class)\n",
    "    species = \"bird\"\n",
    "\n",
    "    # constructor (fill with properties)\n",
    "    def __init__(self, name, age, color):\n",
    "        self.name = name\n",
    "        self.age = age\n",
    "        self.color = color\n",
    "\n",
    "# object/instantiotion from Parrot class\n",
    "blu = Parrot(\"Blu\", 15, \"blue\")\n",
    "jewel = Parrot(\"Jewel\", 10, \"blue\")\n",
    "\n",
    "# access the attributes & properties\n",
    "print(blu.name,\"is a\",blu.color,blu.species, \"of\", blu.age, \"years old!\")\n",
    "print(jewel.name,\"is a\",jewel.color,jewel.species, \"of\", jewel.age, \"years old!\")\n",
    "\n"
   ]
  },
  {
   "source": [
    "## Methods"
   ],
   "cell_type": "markdown",
   "metadata": {}
  },
  {
   "cell_type": "code",
   "execution_count": 25,
   "metadata": {},
   "outputs": [
    {
     "output_type": "stream",
     "name": "stdout",
     "text": [
      "Blu is a blue bird of 15 years old!\n",
      "Jewel is a blue bird of 10 years old!\n",
      "Jewel sings 'I'm happy'\n"
     ]
    }
   ],
   "source": [
    "import os\n",
    "\n",
    "class Parrot:\n",
    "    # attribute (additional info of class)\n",
    "    species = \"bird\"\n",
    "\n",
    "    # constructor (fill with properties)\n",
    "    def __init__(self, name, birthyear, color):\n",
    "        self.name = name\n",
    "        self.age = age\n",
    "        self.color = color\n",
    "\n",
    "    def sing(self):\n",
    "        playsound('08 OO\\parrot.wav')\n",
    "\n",
    "    def talk(self, text):\n",
    "        return \"{} says '{}'\".format(self.name, text)\n",
    "\n",
    "\n",
    "# object/instantiotion from Parrot class\n",
    "blu = Parrot(\"Blu\", 15, \"blue\")\n",
    "jewel = Parrot(\"Jewel\", 10, \"blue\")\n",
    "\n",
    "# access the attributes & properties\n",
    "print(blu.name,\"is a\",blu.color,blu.species, \"of\", blu.age, \"years old!\")\n",
    "print(jewel.name,\"is a\",jewel.color,jewel.species, \"of\", jewel.age, \"years old!\")\n",
    "\n",
    "# call method\n",
    "blu.sing()\n",
    "print(jewel.talk(\"I'm happy\"))"
   ]
  },
  {
   "source": [
    "## Concepts of OO"
   ],
   "cell_type": "markdown",
   "metadata": {}
  },
  {
   "cell_type": "code",
   "execution_count": 47,
   "metadata": {},
   "outputs": [
    {
     "output_type": "stream",
     "name": "stdout",
     "text": [
      "Blu is a blue parrot of 21 years old!\n",
      "Jewel is a blue parrot of 16 years old!\n",
      "Jewel says 'I'm happy'\n",
      "Bird\n",
      "Parrot\n"
     ]
    }
   ],
   "source": [
    "import os\n",
    "from datetime import date\n",
    "\n",
    "class Bird:\n",
    "    species = \"bird\"\n",
    "\n",
    "    def whoisThis(self):\n",
    "        print(\"Bird\")\n",
    "\n",
    "\n",
    "class Parrot(Bird):\n",
    "    species = \"parrot\"\n",
    "\n",
    "    def __calculateAge(self, birthdate):\n",
    "        return date.today().year - birthdate.year \n",
    "\n",
    "    # constructor (fill with properties)\n",
    "    def __init__(self, name, birthdate, color):\n",
    "        self.name = name\n",
    "        self.__age = self.__calculateAge(birthdate)\n",
    "        self.color = color\n",
    "\n",
    "    def getAge(self):\n",
    "        return self.__age\n",
    "    \n",
    "    def setAge(self, birthdate):\n",
    "        self.__age = self.__calculateAge(birthdate)\n",
    "\n",
    "    def sing(self):\n",
    "        playsound('08 OO\\parrot.wav')\n",
    "\n",
    "    def talk(self, text):\n",
    "        print(\"{} says '{}'\".format(self.name, text))\n",
    "    \n",
    "    def whoisThis(self):\n",
    "        print(\"Parrot\")\n",
    "\n",
    "\n",
    "# object/instantiotion from Parrot class\n",
    "blu = Parrot(\"Blu\", date(2000, 2, 3), \"blue\")\n",
    "jewel = Parrot(\"Jewel\", date(2005, 2, 3), \"blue\")\n",
    "\n",
    "# access the attributes & properties\n",
    "print(blu.name,\"is a\",blu.color,blu.species, \"of\", blu.getAge(), \"years old!\")\n",
    "print(jewel.name,\"is a\",jewel.color,jewel.species, \"of\", jewel.getAge(), \"years old!\")\n",
    "\n",
    "# call method\n",
    "blu.sing()\n",
    "jewel.talk(\"I'm happy\")\n",
    "\n",
    "bird = Bird()\n",
    "bird.whoisThis()\n",
    "blu.whoisThis()"
   ]
  },
  {
   "cell_type": "code",
   "execution_count": null,
   "metadata": {},
   "outputs": [],
   "source": []
  }
 ]
}